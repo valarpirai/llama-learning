{
 "cells": [
  {
   "cell_type": "code",
   "execution_count": 4,
   "id": "a5823113-bba2-4a6f-8c28-00ad50f11dfd",
   "metadata": {},
   "outputs": [
    {
     "name": "stderr",
     "output_type": "stream",
     "text": [
      "/Users/valarpiraichandran/dev/env/lib/python3.12/site-packages/whisper/__init__.py:150: FutureWarning: You are using `torch.load` with `weights_only=False` (the current default value), which uses the default pickle module implicitly. It is possible to construct malicious pickle data which will execute arbitrary code during unpickling (See https://github.com/pytorch/pytorch/blob/main/SECURITY.md#untrusted-models for more details). In a future release, the default value for `weights_only` will be flipped to `True`. This limits the functions that could be executed during unpickling. Arbitrary objects will no longer be allowed to be loaded via this mode unless they are explicitly allowlisted by the user via `torch.serialization.add_safe_globals`. We recommend you start setting `weights_only=True` for any use case where you don't have full control of the loaded file. Please open an issue on GitHub for any issues related to this experimental feature.\n",
      "  checkpoint = torch.load(fp, map_location=device)\n"
     ]
    }
   ],
   "source": [
    "from pytubefix import YouTube\n",
    "import whisper\n",
    "from IPython.display import YouTubeVideo\n",
    "from urllib.parse import urlparse\n",
    "from urllib.parse import parse_qs\n",
    "\n",
    "small_model = whisper.load_model(\"./whisper-models/small.pt\")\n",
    "base_model = whisper.load_model(\"./whisper-models/base.pt\")\n",
    "tiny_model = whisper.load_model(\"./whisper-models/tiny.pt\")\n",
    "\n",
    "# Sample YouTube Video\n",
    "# https://www.youtube.com/watch?v=yYt_psQXvEM\n",
    "\n",
    "def download_audio(url):\n",
    "    # Reading the above Taken movie Youtube link\n",
    "    data = YouTube(url)\n",
    "    # Converting and downloading as 'MP4' file\n",
    "    audio = data.streams.get_audio_only()\n",
    "    file_name = audio.download(output_path=\"audios/\")\n",
    "    print(\"Audio Downloaded \\\"\", file_name, \"\\\"\")\n",
    "    return file_name\n",
    "\n",
    "def generate_transcription(model_name=\"tiny\", url=\"\"):\n",
    "    print(url, model_name)\n",
    "    display_video(url)\n",
    "    print(\"Download started..\")\n",
    "    now()\n",
    "    downloaded_file = download_audio(url)\n",
    "    print(\"Speech Recognition started..\")\n",
    "    now()\n",
    "    if model_name == \"base\":\n",
    "        model = base_model\n",
    "    elif model_name == \"small\":\n",
    "        model = small_model\n",
    "    else:\n",
    "        model = tiny_model\n",
    "    # result = model.transcribe(downloaded_file, fp16=False)\n",
    "    print(\"Completed..\")\n",
    "    print(result[\"text\"])\n",
    "    print(\"SUMMARY: ->\")\n",
    "    # print(summarize(result[\"text\"]))\n",
    "    now()\n",
    "    return \"completed\"\n",
    "    # return result[\"text\"]\n",
    "\n",
    "video_id=\"yYt_psQXvEM\"\n",
    "\n",
    "def display_video(url):\n",
    "    # https://www.youtube.com/watch?v=yYt_psQXvEM\n",
    "    global video_id\n",
    "    parsed_url = urlparse(url)\n",
    "    video_id = parse_qs(parsed_url.query)['v'][0]\n",
    "    print(video_id)\n",
    "\n",
    "def now():\n",
    "    from time import gmtime, strftime\n",
    "    print(strftime(\"%Y-%m-%d %H:%M:%S\", gmtime()))"
   ]
  },
  {
   "cell_type": "code",
   "execution_count": 5,
   "id": "f305eca5-7313-4b12-985f-f2e0556e025b",
   "metadata": {},
   "outputs": [
    {
     "name": "stdout",
     "output_type": "stream",
     "text": [
      "https://youtu.be/Qds5tztmb5g?si=rbZSOLVzjGkeCBmQ tiny\n"
     ]
    }
   ],
   "source": [
    "import ollama\n",
    "\n",
    "def summarize(conversation_string):\n",
    "    response = ollama.chat(\n",
    "        model='llama3.1',\n",
    "        messages=[\n",
    "            {\n",
    "                'role': 'system',\n",
    "                'content': 'Your goal is to summarize the text given to you in roughly 300 words. It is from a meeting between one or more people. Only output the summary without any additional text. Focus on providing a summary in freeform text with what people said and the action items coming out of it.'\n",
    "            },\n",
    "          {\n",
    "            'role': 'user',\n",
    "            'content': conversation_string,\n",
    "          },\n",
    "        ])\n",
    "    \n",
    "    return response['message']['content']\n"
   ]
  },
  {
   "cell_type": "code",
   "execution_count": 3,
   "id": "81e20afd-8422-404c-8ff7-fd497c646126",
   "metadata": {},
   "outputs": [
    {
     "name": "stderr",
     "output_type": "stream",
     "text": [
      "/Users/valarpiraichandran/dev/env/lib/python3.12/site-packages/tqdm/auto.py:21: TqdmWarning: IProgress not found. Please update jupyter and ipywidgets. See https://ipywidgets.readthedocs.io/en/stable/user_install.html\n",
      "  from .autonotebook import tqdm as notebook_tqdm\n"
     ]
    },
    {
     "name": "stdout",
     "output_type": "stream",
     "text": [
      "Running on local URL:  http://127.0.0.1:7860\n",
      "Running on public URL: https://cf14f8ad8b77ac94ff.gradio.live\n",
      "\n",
      "This share link expires in 72 hours. For free permanent hosting and GPU upgrades, run `gradio deploy` from Terminal to deploy to Spaces (https://huggingface.co/spaces)\n"
     ]
    },
    {
     "data": {
      "text/html": [
       "<div><iframe src=\"https://cf14f8ad8b77ac94ff.gradio.live\" width=\"100%\" height=\"500\" allow=\"autoplay; camera; microphone; clipboard-read; clipboard-write;\" frameborder=\"0\" allowfullscreen></iframe></div>"
      ],
      "text/plain": [
       "<IPython.core.display.HTML object>"
      ]
     },
     "metadata": {},
     "output_type": "display_data"
    },
    {
     "name": "stderr",
     "output_type": "stream",
     "text": [
      "Traceback (most recent call last):\n",
      "  File \"/Users/valarpiraichandran/dev/env/lib/python3.12/site-packages/gradio/queueing.py\", line 536, in process_events\n",
      "    response = await route_utils.call_process_api(\n",
      "               ^^^^^^^^^^^^^^^^^^^^^^^^^^^^^^^^^^^\n",
      "  File \"/Users/valarpiraichandran/dev/env/lib/python3.12/site-packages/gradio/route_utils.py\", line 322, in call_process_api\n",
      "    output = await app.get_blocks().process_api(\n",
      "             ^^^^^^^^^^^^^^^^^^^^^^^^^^^^^^^^^^^\n",
      "  File \"/Users/valarpiraichandran/dev/env/lib/python3.12/site-packages/gradio/blocks.py\", line 1935, in process_api\n",
      "    result = await self.call_function(\n",
      "             ^^^^^^^^^^^^^^^^^^^^^^^^^\n",
      "  File \"/Users/valarpiraichandran/dev/env/lib/python3.12/site-packages/gradio/blocks.py\", line 1520, in call_function\n",
      "    prediction = await anyio.to_thread.run_sync(  # type: ignore\n",
      "                 ^^^^^^^^^^^^^^^^^^^^^^^^^^^^^^^^^^^^^^^^^^^^^^^\n",
      "  File \"/Users/valarpiraichandran/dev/env/lib/python3.12/site-packages/anyio/to_thread.py\", line 56, in run_sync\n",
      "    return await get_async_backend().run_sync_in_worker_thread(\n",
      "           ^^^^^^^^^^^^^^^^^^^^^^^^^^^^^^^^^^^^^^^^^^^^^^^^^^^^\n",
      "  File \"/Users/valarpiraichandran/dev/env/lib/python3.12/site-packages/anyio/_backends/_asyncio.py\", line 2177, in run_sync_in_worker_thread\n",
      "    return await future\n",
      "           ^^^^^^^^^^^^\n",
      "  File \"/Users/valarpiraichandran/dev/env/lib/python3.12/site-packages/anyio/_backends/_asyncio.py\", line 859, in run\n",
      "    result = context.run(func, *args)\n",
      "             ^^^^^^^^^^^^^^^^^^^^^^^^\n",
      "  File \"/Users/valarpiraichandran/dev/env/lib/python3.12/site-packages/gradio/utils.py\", line 826, in wrapper\n",
      "    response = f(*args, **kwargs)\n",
      "               ^^^^^^^^^^^^^^^^^^\n",
      "  File \"/var/folders/pc/lkxsfg2524z552k5h9bmv_q40000gn/T/ipykernel_58099/472250891.py\", line 25, in generate_transcription\n",
      "    display_video(url)\n",
      "  File \"/var/folders/pc/lkxsfg2524z552k5h9bmv_q40000gn/T/ipykernel_58099/4157437552.py\", line 52, in display_video\n",
      "    video_id = parse_qs(parsed_url.query)['v'][0]\n",
      "               ~~~~~~~~~~~~~~~~~~~~~~~~~~^^^^^\n",
      "KeyError: 'v'\n"
     ]
    }
   ],
   "source": [
    "import gradio as gr\n",
    "\n",
    "demo = gr.Interface(fn=generate_transcription, \n",
    "                    inputs=[\n",
    "                        gr.Radio([\"tiny\", \"base\", \"small\"], value=\"tiny\"),\n",
    "                        gr.Textbox(label=\"Youtube video URL\", value=\"https://www.youtube.com/watch?v=yYt_psQXvEM\")\n",
    "                    ], outputs=gr.Textbox(lines=15, placeholder=\"Speech to text content...\"))\n",
    "    \n",
    "if __name__ == \"__main__\":\n",
    "    demo.launch(show_api=True, share=True)"
   ]
  },
  {
   "cell_type": "code",
   "execution_count": 11,
   "id": "aa7bad88-ba60-4345-8ac5-7d1bb6dafddc",
   "metadata": {},
   "outputs": [
    {
     "name": "stdout",
     "output_type": "stream",
     "text": [
      "yYt_psQXvEM\n"
     ]
    }
   ],
   "source": [
    "print(video_id)\n",
    "YouTubeVideo(video_id, width=800, height=500)"
   ]
  },
  {
   "cell_type": "code",
   "execution_count": 35,
   "id": "dac7c229-3a91-441c-b737-ca6205c75e61",
   "metadata": {},
   "outputs": [],
   "source": [
    "from pytubefix import YouTube\n",
    "from pytubefix import Playlist\n",
    "from pytubefix.cli import on_progress\n",
    "\n",
    "def download_audio(url):\n",
    "    # Reading the above Taken movie Youtube link\n",
    "    data = YouTube(url, on_progress_callback=on_progress)\n",
    "    # Converting and downloading as 'MP3' file\n",
    "    audio = data.streams.get_audio_only()\n",
    "    file_name = audio.download(output_path=\"songs/\", mp3=True)\n",
    "    print(\"Audio Downloaded \\\"\", file_name, \"\\\"\")\n",
    "    return file_name\n",
    "\n",
    "def download_playlist(url):\n",
    "    pl = Playlist(url)\n",
    "    print(\"Start...\", pl)\n",
    "    for video in pl.videos:\n",
    "        print(\"video -> \", video)\n",
    "        ys = video.streams.get_audio_only()\n",
    "        files = ys.download(output_path=\"songs/\")\n",
    "        print(\"done -> \", files)\n",
    "    print(\"Completed...\")"
   ]
  },
  {
   "cell_type": "code",
   "execution_count": 37,
   "id": "5bbaf045-0870-4b70-868c-83bc49a8f4ea",
   "metadata": {},
   "outputs": [
    {
     "name": "stdout",
     "output_type": "stream",
     "text": [
      "Start... <pytubefix.contrib.Playlist object: playlistId=RDEMDq42y29JJfLg4jVss0We0A>\n",
      "Completed...\n"
     ]
    }
   ],
   "source": [
    "download_playlist(\"https://www.youtube.com/watch?v=7fFFbFp8nOg&list=RDEMDq42y29JJfLg4jVss0We0A\")"
   ]
  },
  {
   "cell_type": "code",
   "execution_count": 27,
   "id": "4d5eebeb-4272-4026-aa61-4ef2a1478341",
   "metadata": {},
   "outputs": [
    {
     "ename": "TypeError",
     "evalue": "Stream.download() got an unexpected keyword argument 'mp3'",
     "output_type": "error",
     "traceback": [
      "\u001b[0;31m---------------------------------------------------------------------------\u001b[0m",
      "\u001b[0;31mTypeError\u001b[0m                                 Traceback (most recent call last)",
      "Cell \u001b[0;32mIn[27], line 1\u001b[0m\n\u001b[0;32m----> 1\u001b[0m download_audio(\u001b[38;5;124m\"\u001b[39m\u001b[38;5;124mhttps://www.youtube.com/watch?v=ifZYNAKeq3w&ab_channel=Pyramid-Audio\u001b[39m\u001b[38;5;124m\"\u001b[39m)\n",
      "Cell \u001b[0;32mIn[25], line 10\u001b[0m, in \u001b[0;36mdownload_audio\u001b[0;34m(url)\u001b[0m\n\u001b[1;32m      8\u001b[0m \u001b[38;5;66;03m# Converting and downloading as 'MP3' file\u001b[39;00m\n\u001b[1;32m      9\u001b[0m audio \u001b[38;5;241m=\u001b[39m data\u001b[38;5;241m.\u001b[39mstreams\u001b[38;5;241m.\u001b[39mget_audio_only()\n\u001b[0;32m---> 10\u001b[0m file_name \u001b[38;5;241m=\u001b[39m audio\u001b[38;5;241m.\u001b[39mdownload(output_path\u001b[38;5;241m=\u001b[39m\u001b[38;5;124m\"\u001b[39m\u001b[38;5;124msongs/\u001b[39m\u001b[38;5;124m\"\u001b[39m, mp3\u001b[38;5;241m=\u001b[39m\u001b[38;5;28;01mTrue\u001b[39;00m)\n\u001b[1;32m     11\u001b[0m \u001b[38;5;28mprint\u001b[39m(\u001b[38;5;124m\"\u001b[39m\u001b[38;5;124mAudio Downloaded \u001b[39m\u001b[38;5;130;01m\\\"\u001b[39;00m\u001b[38;5;124m\"\u001b[39m, file_name, \u001b[38;5;124m\"\u001b[39m\u001b[38;5;130;01m\\\"\u001b[39;00m\u001b[38;5;124m\"\u001b[39m)\n\u001b[1;32m     12\u001b[0m \u001b[38;5;28;01mreturn\u001b[39;00m file_name\n",
      "\u001b[0;31mTypeError\u001b[0m: Stream.download() got an unexpected keyword argument 'mp3'"
     ]
    }
   ],
   "source": [
    "download_audio(\"https://www.youtube.com/watch?v=ifZYNAKeq3w&ab_channel=Pyramid-Audio\")"
   ]
  },
  {
   "cell_type": "code",
   "execution_count": 39,
   "id": "d46734ea-a555-4c33-88b7-179c89d7991c",
   "metadata": {},
   "outputs": [
    {
     "name": "stdout",
     "output_type": "stream",
     "text": [
      "Collecting youtube-dl\n",
      "  Downloading youtube_dl-2021.12.17-py2.py3-none-any.whl.metadata (1.5 kB)\n",
      "Downloading youtube_dl-2021.12.17-py2.py3-none-any.whl (1.9 MB)\n",
      "\u001b[2K   \u001b[90m━━━━━━━━━━━━━━━━━━━━━━━━━━━━━━━━━━━━━━━━\u001b[0m \u001b[32m1.9/1.9 MB\u001b[0m \u001b[31m5.5 MB/s\u001b[0m eta \u001b[36m0:00:00\u001b[0ma \u001b[36m0:00:01\u001b[0m\n",
      "\u001b[?25hInstalling collected packages: youtube-dl\n",
      "Successfully installed youtube-dl-2021.12.17\n",
      "Note: you may need to restart the kernel to use updated packages.\n"
     ]
    }
   ],
   "source": [
    "from pytubefix import YouTube\n",
    "from pytubefix import Playlist\n",
    "from pytubefix.cli import on_progress\n",
    "\n",
    "def download_audio(url):\n",
    "    # Reading the above Taken movie Youtube link\n",
    "    data = YouTube(url, on_progress_callback=on_progress)\n",
    "    # Converting and downloading as 'MP3' file\n",
    "    audio = data.streams.get_audio_only()\n",
    "    file_name = audio.download(output_path=\"songs/\", mp3=True)\n",
    "    print(\"Audio Downloaded \\\"\", file_name, \"\\\"\")\n",
    "    return file_name\n",
    "\n",
    "def download_playlist(url):\n",
    "    pl = Playlist(url)\n",
    "    print(\"Start...\", pl)\n",
    "    for video in pl.videos:\n",
    "        print(\"video -> \", video)\n",
    "        ys = video.streams.get_audio_only()\n",
    "        files = ys.download(output_path=\"songs/\")\n",
    "        print(\"done -> \", files)\n",
    "    print(\"Completed...\")"
   ]
  }
 ],
 "metadata": {
  "kernelspec": {
   "display_name": "Python 3 (ipykernel)",
   "language": "python",
   "name": "python3"
  },
  "language_info": {
   "codemirror_mode": {
    "name": "ipython",
    "version": 3
   },
   "file_extension": ".py",
   "mimetype": "text/x-python",
   "name": "python",
   "nbconvert_exporter": "python",
   "pygments_lexer": "ipython3",
   "version": "3.12.4"
  }
 },
 "nbformat": 4,
 "nbformat_minor": 5
}
