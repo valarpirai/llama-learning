{
 "cells": [
  {
   "cell_type": "code",
   "execution_count": 4,
   "id": "9fed5dae-6b27-41a8-b7b6-3b7108614bc4",
   "metadata": {},
   "outputs": [],
   "source": [
    "import whisper\n",
    "\n",
    "# model = whisper.load_model(\"tiny.en\")\n",
    "model = whisper.load_model(\"./whisper-models/tiny.pt\")"
   ]
  },
  {
   "cell_type": "code",
   "execution_count": 5,
   "id": "a5823113-bba2-4a6f-8c28-00ad50f11dfd",
   "metadata": {},
   "outputs": [
    {
     "name": "stdout",
     "output_type": "stream",
     "text": [
      "Audio Downloaded  /Users/vaannadurai/reporting/kbase/llm-experiments/audios/The Moment Kurzgesagt Changed Forever.mp4\n",
      "Speech Recognition started..\n"
     ]
    }
   ],
   "source": [
    "import pytube\n",
    "\n",
    "def download_audio(url):\n",
    "    # Reading the above Taken movie Youtube link\n",
    "    data = pytube.YouTube(url)\n",
    "    # Converting and downloading as 'MP4' file\n",
    "    audio = data.streams.get_audio_only()\n",
    "    file_name = audio.download(output_path=\"audios/\")\n",
    "    print(\"Audio Downloaded \", file_name)\n",
    "    return file_name"
   ]
  },
  {
   "cell_type": "code",
   "execution_count": 3,
   "id": "81e20afd-8422-404c-8ff7-fd497c646126",
   "metadata": {},
   "outputs": [
    {
     "name": "stderr",
     "output_type": "stream",
     "text": [
      "/Users/vaannadurai/reporting/kbase/env/lib/python3.9/site-packages/urllib3/__init__.py:34: NotOpenSSLWarning: urllib3 v2.0 only supports OpenSSL 1.1.1+, currently the 'ssl' module is compiled with 'LibreSSL 2.8.3'. See: https://github.com/urllib3/urllib3/issues/3020\n",
      "  warnings.warn(\n"
     ]
    },
    {
     "name": "stdout",
     "output_type": "stream",
     "text": [
      "Running on local URL:  http://127.0.0.1:7860\n",
      "\n",
      "To create a public link, set `share=True` in `launch()`.\n"
     ]
    },
    {
     "data": {
      "text/html": [
       "<div><iframe src=\"http://127.0.0.1:7860/\" width=\"100%\" height=\"500\" allow=\"autoplay; camera; microphone; clipboard-read; clipboard-write;\" frameborder=\"0\" allowfullscreen></iframe></div>"
      ],
      "text/plain": [
       "<IPython.core.display.HTML object>"
      ]
     },
     "metadata": {},
     "output_type": "display_data"
    }
   ],
   "source": [
    "import gradio as gr\n",
    "\n",
    "def generate_transcription(url):\n",
    "    downloaded_file = download_audio(url)\n",
    "    print(\"Speech Recognition started..\")\n",
    "    result = model.transcribe(downloaded_file, fp16=False)\n",
    "    # print(result[\"text\"])\n",
    "    return result[\"text\"]\n",
    "\n",
    "demo = gr.Interface(fn=generate_transcription, inputs=\"text\", outputs=gr.Textbox(lines=10, placeholder=\"Speech to text content...\"))\n",
    "    \n",
    "if __name__ == \"__main__\":\n",
    "    demo.launch(show_api=False)   "
   ]
  },
  {
   "cell_type": "code",
   "execution_count": null,
   "id": "db3b9440-5a16-4d87-a9d0-fca3eba5628d",
   "metadata": {},
   "outputs": [],
   "source": []
  }
 ],
 "metadata": {
  "kernelspec": {
   "display_name": "Python 3 (ipykernel)",
   "language": "python",
   "name": "python3"
  },
  "language_info": {
   "codemirror_mode": {
    "name": "ipython",
    "version": 3
   },
   "file_extension": ".py",
   "mimetype": "text/x-python",
   "name": "python",
   "nbconvert_exporter": "python",
   "pygments_lexer": "ipython3",
   "version": "3.9.6"
  }
 },
 "nbformat": 4,
 "nbformat_minor": 5
}
