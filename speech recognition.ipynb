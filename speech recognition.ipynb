{
 "cells": [
  {
   "cell_type": "code",
   "execution_count": 8,
   "id": "a5823113-bba2-4a6f-8c28-00ad50f11dfd",
   "metadata": {},
   "outputs": [
    {
     "name": "stderr",
     "output_type": "stream",
     "text": [
      "/Users/valarpiraichandran/dev/env/lib/python3.12/site-packages/whisper/__init__.py:150: FutureWarning: You are using `torch.load` with `weights_only=False` (the current default value), which uses the default pickle module implicitly. It is possible to construct malicious pickle data which will execute arbitrary code during unpickling (See https://github.com/pytorch/pytorch/blob/main/SECURITY.md#untrusted-models for more details). In a future release, the default value for `weights_only` will be flipped to `True`. This limits the functions that could be executed during unpickling. Arbitrary objects will no longer be allowed to be loaded via this mode unless they are explicitly allowlisted by the user via `torch.serialization.add_safe_globals`. We recommend you start setting `weights_only=True` for any use case where you don't have full control of the loaded file. Please open an issue on GitHub for any issues related to this experimental feature.\n",
      "  checkpoint = torch.load(fp, map_location=device)\n"
     ]
    }
   ],
   "source": [
    "from pytubefix import YouTube\n",
    "import whisper\n",
    "from IPython.display import YouTubeVideo\n",
    "from urllib.parse import urlparse\n",
    "from urllib.parse import parse_qs\n",
    "\n",
    "small_model = whisper.load_model(\"./whisper-models/small.pt\")\n",
    "base_model = whisper.load_model(\"./whisper-models/base.pt\")\n",
    "tiny_model = whisper.load_model(\"./whisper-models/tiny.pt\")\n",
    "\n",
    "# Sample YouTube Video\n",
    "# https://www.youtube.com/watch?v=yYt_psQXvEM\n",
    "\n",
    "def download_audio(url):\n",
    "    # Reading the above Taken movie Youtube link\n",
    "    data = YouTube(url)\n",
    "    # Converting and downloading as 'MP4' file\n",
    "    audio = data.streams.get_audio_only()\n",
    "    file_name = audio.download(output_path=\"audios/\")\n",
    "    print(\"Audio Downloaded \\\"\", file_name, \"\\\"\")\n",
    "    return file_name\n",
    "\n",
    "def generate_transcription(model_name=\"tiny\", url=\"\"):\n",
    "    print(url, model_name)\n",
    "    display_video(url)\n",
    "    print(\"Download started..\")\n",
    "    now()\n",
    "    downloaded_file = download_audio(url)\n",
    "    print(\"Speech Recognition started..\")\n",
    "    now()\n",
    "    if model_name == \"base\":\n",
    "        model = base_model\n",
    "    elif model_name == \"small\":\n",
    "        model = small_model\n",
    "    else:\n",
    "        model = tiny_model\n",
    "    result = model.transcribe(downloaded_file, fp16=False)\n",
    "    print(\"Completed..\")\n",
    "    print(result[\"text\"])\n",
    "    print(\"SUMMARY: ->\")\n",
    "    # print(summarize(result[\"text\"]))\n",
    "    now()\n",
    "    return result[\"text\"]\n",
    "\n",
    "video_id=\"yYt_psQXvEM\"\n",
    "\n",
    "def display_video(url):\n",
    "    # https://www.youtube.com/watch?v=yYt_psQXvEM\n",
    "    global video_id\n",
    "    parsed_url = urlparse(url)\n",
    "    video_id = parse_qs(parsed_url.query)['v'][0]\n",
    "    print(video_id)\n",
    "\n",
    "def now():\n",
    "    from time import gmtime, strftime\n",
    "    print(strftime(\"%Y-%m-%d %H:%M:%S\", gmtime()))"
   ]
  },
  {
   "cell_type": "code",
   "execution_count": 9,
   "id": "f305eca5-7313-4b12-985f-f2e0556e025b",
   "metadata": {},
   "outputs": [],
   "source": [
    "import ollama\n",
    "\n",
    "def summarize(conversation_string):\n",
    "    response = ollama.chat(\n",
    "        model='llama3.1',\n",
    "        messages=[\n",
    "            {\n",
    "                'role': 'system',\n",
    "                'content': 'Your goal is to summarize the text given to you in roughly 300 words. It is from a meeting between one or more people. Only output the summary without any additional text. Focus on providing a summary in freeform text with what people said and the action items coming out of it.'\n",
    "            },\n",
    "          {\n",
    "            'role': 'user',\n",
    "            'content': conversation_string,\n",
    "          },\n",
    "        ])\n",
    "    \n",
    "    return response['message']['content']\n"
   ]
  },
  {
   "cell_type": "code",
   "execution_count": 10,
   "id": "81e20afd-8422-404c-8ff7-fd497c646126",
   "metadata": {},
   "outputs": [
    {
     "name": "stdout",
     "output_type": "stream",
     "text": [
      "Running on local URL:  http://127.0.0.1:7869\n",
      "Running on public URL: https://27f0e0f7dcfc9d54e2.gradio.live\n",
      "\n",
      "This share link expires in 72 hours. For free permanent hosting and GPU upgrades, run `gradio deploy` from Terminal to deploy to Spaces (https://huggingface.co/spaces)\n"
     ]
    },
    {
     "data": {
      "text/html": [
       "<div><iframe src=\"https://27f0e0f7dcfc9d54e2.gradio.live\" width=\"100%\" height=\"500\" allow=\"autoplay; camera; microphone; clipboard-read; clipboard-write;\" frameborder=\"0\" allowfullscreen></iframe></div>"
      ],
      "text/plain": [
       "<IPython.core.display.HTML object>"
      ]
     },
     "metadata": {},
     "output_type": "display_data"
    },
    {
     "name": "stdout",
     "output_type": "stream",
     "text": [
      "https://www.youtube.com/watch?v=yYt_psQXvEM tiny\n",
      "yYt_psQXvEM\n",
      "Download started..\n",
      "2024-10-03 11:26:21\n",
      "Audio Downloaded \" /Users/valarpiraichandran/dev/expr/llama-learning/audios/Crab vs Eel vs Octopus  4K UHD  Blue Planet II  BBC Earth.mp4 \"\n",
      "Speech Recognition started..\n",
      "2024-10-03 11:26:21\n",
      "Completed..\n",
      " A sunny light-foot crab. One of thousands of shore crabs just waiting for their moment. Every day they gather on the tropical shores of Brazil. Waking for the tide to go out. Which exposes their feeding grounds. See-weed covered rocks, a hundred metres from the shore. Getting there is a race against the tide. They leap from rock to rock. They leap from rock to rock. These crabs seem to be afraid of the water. Verify the49th shore. And for good reason. The Marae Al? the eel. The chain morey is a specialist crab hunter. Its blunt teeth can easily grip and crush a crab shell. It's the crabs deadliest enemy. But the crabs feeding grounds are still a long way off. They must press on. The last one is the crab. Halfway. But the enemy has other ideas. Crossing the land. The first one is the crab. Two reset the ambush. To feed the crabs must keep going. But nowhere is safe. An octopus also a crab killer. The crab is a big one. The crabs make a dash for it. The crab is a big one. The crab is a big one. The crab is a big one. The crab is a big one. The crab is a big one. But in two hours time when the tide starts to turn. They will have to run the gonglet over again. The crab is a big one. The crab is a big one. The crab is a big one. The crab is a big one. The crab is a big one. The crab is a big one. The crab is a big one. The crab is a big one.\n",
      "SUMMARY: ->\n",
      "2024-10-03 11:26:24\n"
     ]
    }
   ],
   "source": [
    "import gradio as gr\n",
    "\n",
    "demo = gr.Interface(fn=generate_transcription, \n",
    "                    inputs=[\n",
    "                        gr.Radio([\"tiny\", \"base\", \"small\"], value=\"tiny\"),\n",
    "                        gr.Textbox(label=\"Youtube video URL\", value=\"https://www.youtube.com/watch?v=yYt_psQXvEM\")\n",
    "                    ], outputs=gr.Textbox(lines=15, placeholder=\"Speech to text content...\"))\n",
    "    \n",
    "if __name__ == \"__main__\":\n",
    "    demo.launch(show_api=True, share=True)"
   ]
  },
  {
   "cell_type": "code",
   "execution_count": 11,
   "id": "aa7bad88-ba60-4345-8ac5-7d1bb6dafddc",
   "metadata": {},
   "outputs": [
    {
     "name": "stdout",
     "output_type": "stream",
     "text": [
      "yYt_psQXvEM\n"
     ]
    }
   ],
   "source": [
    "print(video_id)\n",
    "YouTubeVideo(video_id, width=800, height=500)"
   ]
  },
  {
   "cell_type": "code",
   "execution_count": null,
   "id": "dac7c229-3a91-441c-b737-ca6205c75e61",
   "metadata": {},
   "outputs": [],
   "source": []
  }
 ],
 "metadata": {
  "kernelspec": {
   "display_name": "Python 3 (ipykernel)",
   "language": "python",
   "name": "python3"
  },
  "language_info": {
   "codemirror_mode": {
    "name": "ipython",
    "version": 3
   },
   "file_extension": ".py",
   "mimetype": "text/x-python",
   "name": "python",
   "nbconvert_exporter": "python",
   "pygments_lexer": "ipython3",
   "version": "3.12.7"
  }
 },
 "nbformat": 4,
 "nbformat_minor": 5
}
