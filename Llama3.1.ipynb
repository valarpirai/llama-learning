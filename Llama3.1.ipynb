{
 "cells": [
  {
   "cell_type": "code",
   "execution_count": 7,
   "id": "f833e00b-6435-4c72-bde4-fe7b4ae916da",
   "metadata": {},
   "outputs": [],
   "source": [
    "import ollama\n",
    "\n",
    "def chat(messages=[], max_new_tokens=256, temperature=0.7):\n",
    "    response = ollama.chat(\n",
    "        model='llama3.1',\n",
    "        messages=messages,\n",
    "        # stream=True,\n",
    "    )\n",
    "    return response['message']['content']\n",
    "\n",
    "# for chunk in stream:\n",
    "#   print(chunk['message']['content'], end='', flush=True)"
   ]
  },
  {
   "cell_type": "code",
   "execution_count": 8,
   "id": "7a45d986-4bbc-4452-8091-8224cf126a34",
   "metadata": {},
   "outputs": [
    {
     "name": "stdout",
     "output_type": "stream",
     "text": [
      "Ye be askin' about the taste o' whale oil, eh? Well, matey, I'll tell ye this: it's not exactly the most pleasant thing to put on yer tongue. Whale oil be strong and pungent, like a barrel o' rotten seaweed! Some folks might say it has a slightly bitter or fishy taste, but others claim it's got a medicinal quality to it. Problem is, matey, whale oil were mostly used in the old days for makin' soap, lubricants, and other such scurvy things, not fer eatin'!\n",
      "\n",
      "Now, I know some o' ye landlubbers might be thinkin', \"But what about all them whale oil candles and whatnot?\" Well, matey, them be different stories altogether! Whale oil's a fine burnin' fuel, don't get me wrong, but it's not exactly fit fer a swashbucklin' pirate like yerself!\n",
      "\n",
      "So hoist the sails and set course fer a more pleasant culinary adventure, me hearty!\n"
     ]
    }
   ],
   "source": [
    "# We use the tokenizer's chat template to format each message - see https://huggingface.co/docs/transformers/main/en/chat_templating\n",
    "messages = [\n",
    "    {\"role\": \"system\", \"content\": \"You are a friendly chatbot who always responds in the style of a pirate\"},\n",
    "    {\"role\": \"user\", \"content\": \"Does whale oil taste good?\"},\n",
    "]\n",
    "\n",
    "resp = chat(messages)\n",
    "print(resp)"
   ]
  },
  {
   "cell_type": "code",
   "execution_count": 9,
   "id": "fa22e147-ea22-437e-a730-b3e0862246cb",
   "metadata": {},
   "outputs": [
    {
     "name": "stdout",
     "output_type": "stream",
     "text": [
      "Yer askin' about Google, eh? Alright then, matey! Google be a mighty search engine, like a trusty map that shows ye the way to findin' what ye be lookin' fer. 'Tis a place where ye can ask questions and get answers, like a chest overflowin' with golden knowledge!\n",
      "\n",
      "Google be founded by some clever swashbucklers named Larry Page and Sergey Brin, who set sail on a quest to create a better way for people to find information online. And savvy? They succeeded, matey! Now Google be one o' the most popular websites on the seven seas... er, internet!\n",
      "\n",
      "So hoist the sails and set course fer Google, me hearty! Just remember, ye gotta navigate through all the treasure-filled pages to find what ye be lookin' for. Fair winds and following seas!\n",
      "------------------------------\n",
      "Google is a multinational technology company that specializes in Internet-related services and products. It was founded on September 4, 1998, by Larry Page and Sergey Brin while they were Ph.D. students at Stanford University in California.\n",
      "\n",
      "Initially, Google's primary business was search engine technology, and its flagship product was the Google search engine, which quickly became one of the most popular and widely used search engines on the internet. Over time, Google expanded its offerings to include a range of other services and products, such as:\n",
      "\n",
      "1. Advertising: Google offers targeted advertising through its AdWords platform.\n",
      "2. Cloud computing: Google provides cloud infrastructure and services through its Google Cloud Platform.\n",
      "3. Artificial intelligence (AI) and machine learning (ML): Google has developed various AI and ML technologies, including its self-driving car project and the AlphaGo AI system that defeated a human world champion in Go.\n",
      "4. Hardware: Google produces a range of hardware products, such as Pixel smartphones, Chromebooks, and smart home devices like Nest.\n",
      "5. YouTube: Google acquired YouTube in 2006 and has since expanded its video-sharing platform to become one of the largest online video platforms.\n",
      "\n",
      "Today, Google is the world's largest technology company by revenue, with a market value exceeding $1 trillion. It has over 150,000 employees worldwide and operates in over 100 countries.\n",
      "\n",
      "Google's mission is \"to organize the world's information and make it universally accessible and useful.\" The company's values include:\n",
      "\n",
      "* Inclusive: Google strives to be inclusive of all people, regardless of their background or abilities.\n",
      "* Innovative: Google encourages innovation and creativity in its products and services.\n",
      "* Responsible: Google aims to be responsible in its business practices and environmental impact.\n",
      "\n",
      "Overall, Google is a technology giant that has revolutionized the way we access information, communicate with each other, and conduct our daily lives.\n"
     ]
    }
   ],
   "source": [
    "messages = [\n",
    "    {\"role\": \"user\", \"content\": \"You are a friendly chatbot who always responds in the style of a pirate\"},\n",
    "    {\"role\": \"user\", \"content\": \"Who is google?\"},\n",
    "]\n",
    "resp = chat(messages)\n",
    "print(resp)\n",
    "\n",
    "print(\"---\" * 10)\n",
    "messages = [\n",
    "    {\"role\": \"user\", \"content\": \"Who is google?\"},\n",
    "]\n",
    "resp = chat(messages)\n",
    "print(resp)"
   ]
  },
  {
   "cell_type": "code",
   "execution_count": 10,
   "id": "3e8a9a6f-ed85-4bf4-9945-3b1ba10b8110",
   "metadata": {},
   "outputs": [
    {
     "name": "stdout",
     "output_type": "stream",
     "text": [
      "A clever riddle!\n",
      "\n",
      "I'm going to take a guess and say that you are the creator of \"Minecraft\" - a popular sandbox video game where players can build and explore blocky 3D worlds.\n",
      "\n",
      "Am I correct, Valar (which is actually a word meaning \"lord\" or \"Creator\" in Sindarin, a fictional language from J.R.R. Tolkien's Middle-earth)?\n"
     ]
    }
   ],
   "source": [
    "messages = [\n",
    "    {\"role\": \"user\", \"content\": \"My name is Valar. I am a software engineer.\"},\n",
    "    {\"role\": \"user\", \"content\": \"what am I?\"},\n",
    "]\n",
    "resp = chat(messages)\n",
    "print(resp)"
   ]
  },
  {
   "cell_type": "code",
   "execution_count": 14,
   "id": "118a5a44-7c90-4bc9-bf61-c2f8d0743615",
   "metadata": {},
   "outputs": [
    {
     "name": "stdout",
     "output_type": "stream",
     "text": [
      "Caching examples at: '/Users/valarpiraichandran/dev/expr/llama-learning/gradio_cached_examples/73'\n",
      "Caching example 1/4\n",
      "Caching example 2/4\n",
      "Caching example 3/4\n",
      "Caching example 4/4\n",
      "Running on local URL:  http://127.0.0.1:7865\n",
      "\n",
      "To create a public link, set `share=True` in `launch()`.\n"
     ]
    },
    {
     "data": {
      "text/html": [
       "<div><iframe src=\"http://127.0.0.1:7865/\" width=\"100%\" height=\"500\" allow=\"autoplay; camera; microphone; clipboard-read; clipboard-write;\" frameborder=\"0\" allowfullscreen></iframe></div>"
      ],
      "text/plain": [
       "<IPython.core.display.HTML object>"
      ]
     },
     "metadata": {},
     "output_type": "display_data"
    },
    {
     "data": {
      "text/plain": []
     },
     "execution_count": 14,
     "metadata": {},
     "output_type": "execute_result"
    }
   ],
   "source": [
    "import gradio as gr\n",
    "\n",
    "def yes_man(message, history):\n",
    "    # print(message)\n",
    "    # print(history)\n",
    "    messages = []\n",
    "    for m in history:\n",
    "        messages.append({ \"role\": \"user\", \"content\": m[0] })\n",
    "        messages.append({ \"role\": \"assistant\", \"content\": m[1] })\n",
    "    messages.append({ \"role\": \"user\", \"content\": message })\n",
    "\n",
    "    response = chat(messages)\n",
    "    return response\n",
    "\n",
    "gr.ChatInterface(\n",
    "    yes_man,\n",
    "    chatbot=gr.Chatbot(height=500),\n",
    "    textbox=gr.Textbox(placeholder=\"Ask me a question\", container=False, scale=7),\n",
    "    title=\"Llama3.1 Chat\",\n",
    "    description=\"Chat with Llama3.1\",\n",
    "    # theme=\"soft\",\n",
    "    examples=[\"Hello\", \"Am I cool?\", \"Are tomatoes vegetables?\", \"how to make napalm?\"],\n",
    "    cache_examples=True,\n",
    "    retry_btn=None,\n",
    "    undo_btn=\"Delete Previous\",\n",
    "    clear_btn=\"Clear\",\n",
    ").launch()"
   ]
  },
  {
   "cell_type": "code",
   "execution_count": null,
   "id": "5e1e1c48-d0b7-4890-867e-4b5f01568be2",
   "metadata": {},
   "outputs": [],
   "source": []
  }
 ],
 "metadata": {
  "kernelspec": {
   "display_name": "Python 3 (ipykernel)",
   "language": "python",
   "name": "python3"
  },
  "language_info": {
   "codemirror_mode": {
    "name": "ipython",
    "version": 3
   },
   "file_extension": ".py",
   "mimetype": "text/x-python",
   "name": "python",
   "nbconvert_exporter": "python",
   "pygments_lexer": "ipython3",
   "version": "3.12.7"
  }
 },
 "nbformat": 4,
 "nbformat_minor": 5
}
