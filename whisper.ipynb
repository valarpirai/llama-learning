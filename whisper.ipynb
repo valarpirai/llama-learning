{
 "cells": [
  {
   "cell_type": "code",
   "execution_count": 2,
   "id": "964ef350-a2d1-4b18-987a-ec1668f0b61e",
   "metadata": {},
   "outputs": [
    {
     "name": "stderr",
     "output_type": "stream",
     "text": [
      "100%|█████████████████████████████████████| 72.1M/72.1M [00:06<00:00, 11.6MiB/s]\n"
     ]
    }
   ],
   "source": [
    "import whisper\n",
    "\n",
    "model = whisper.load_model(\"tiny.en\")\n",
    "# model = whisper.load_model(\"base\")"
   ]
  },
  {
   "cell_type": "code",
   "execution_count": 7,
   "id": "c3b79b71-1c10-4f5f-853c-28c4ad41d48c",
   "metadata": {},
   "outputs": [
    {
     "data": {
      "text/plain": [
       "'/Users/vaannadurai/reporting/kbase/langchain/The Internet is Worse Than Ever – Now What.mp4'"
      ]
     },
     "execution_count": 7,
     "metadata": {},
     "output_type": "execute_result"
    }
   ],
   "source": [
    "import pytube\n",
    "# Reading the above Taken movie Youtube link\n",
    "video = 'https://www.youtube.com/watch?v=fuFlMtZmvY0&ab_channel=Kurzgesagt%E2%80%93InaNutshell'\n",
    "data = pytube.YouTube(video)\n",
    "# Converting and downloading as 'MP4' file\n",
    "audio = data.streams.get_audio_only()\n",
    "audio.download()"
   ]
  },
  {
   "cell_type": "code",
   "execution_count": 8,
   "id": "af1d61ed-2034-417c-8eba-720cf4c4a750",
   "metadata": {},
   "outputs": [
    {
     "name": "stdout",
     "output_type": "stream",
     "text": [
      " In 2022, the half of Americans expected a civil war in the next few years, one in five now believes political violence is just a fight. And it's not just the US, but around the world. People increasingly see themselves as part of opposing teams. There are many different reasons for this, but one gets blamed a lot. Social media. Social media divitis makes us more extreme and less empathetic. It rises up or sucks us into doom-strolling, making us stressed and depressed. It feels like we need to touch grass and escape to the real world. New research shows that we might have largely misinterpreted why this is the case. It turns out that the social media internet may uniquely undermine the way our brains work, but not in the way you think. The myth of the filter bubble. You've probably heard about online filter bubbles. Algorithms give you exactly what you want or what they think you want. You only see information that shows you opinions that agree with yours, while descending opinions or information are filtered out. Since you only see content close to your world view, more extreme and toxic opinions suddenly seem less extreme. Your trapped in a radicalizing filter bubble and your view of the world becomes narrower and more extreme. But is that true? Extreme filter bubbles seem to be rather rare. Studies that investigated what people actually look at online or are shown by search engines found little evidence that your ideologically isolated. It's the exact opposite. Online you are constantly confronted with opinions and world views that are not your own. It turns out that the place where you are the most ideologically isolated is your real life in the real world with real people. Your real world interactions with your friends, family, colleagues and neighbors are much less diverse than your online bubble. The filter bubble exists in your real life, not online. Okay, wait. Online filter bubbles have been the prevailing explanation as to why we've all started hating each other more over the last two decades. If that's not the case, shouldn't the internet open our minds and make us more empathetic with each other? Unfortunately, your brain is stupid. Your brain is stupid. Human brains didn't evolve to understand the true nature of reality, but to navigate and maintain social structures. Our ancestors desperately needed each other to survive, so our brains had to make sure we cooperate it. That's why social isolation or exclusion feels so horrible because it was actually life threatening. A tribe that worked together survived. A divided tribe died. The weight communities worked for thousands of years. Is that sure you may have disliked a neighbor, but because you lived close to each other, you also rooted for the same sports club or sort of a church. You both thought that the people from the other village were idiots. Being physically close made you familiar and created similarities that bridge the gap of different wild views so you didn't murder each other. And your world view was probably not that different in the first place because it was formed by the same local culture. When our brains evolved, this was enough, whoever was around was similar to us. We liked what was similar to us. This kept us aligned enough to work together despite our differences. As humanity moved on from small tribes to towns and cities, from chiefdoms to kingdoms to nations, our brains and our communities had to adapt to more diverse sets of neighbors. We began to meet on the town square or in universities where we argued and screamed at each other. But in the grand scheme of things, communities were still relatively isolated, we were still pretty similar and aligned with the people around us. Conflict and disagreement are not a bad thing per say. Tension over how we should live can create new and wonderful things. Our values, norms and to boost are always evolving and whatever we think is normal today will not be normal in the future. But we also need social glue to hold our societies together because our brains don't care about the metal level of humanity but about being safe in a tribe. Until about 20 years ago, we did something truly new that hit our brains like a freight train, the social media internet, the digital town square. Don't you dare disagree with me, social sorting. In a nutshell, our brains are not able to process the amount of disagreement we encounter on the social internet. The very mechanisms that made it possible for our ancestors to work together in the first place are derailed in ways we were not prepared for. Whether you want it to or not, your brain sorts people by world views and opinions into teams. This is not simply tribalism, it goes further. Researchers have called this process social sorting. On the digital town square, you encounter people that express opinions or share information that clash with your world view. But unlike your neighbor, they don't root for your local sports club. You're missing the local social glue your brain needs to align with them. For your brain, the disagreement between yourself and them becomes a central part of their identity. And this makes it less likely that you will seriously consider their position or opinion in the future. If you hear bad things about them, your brain is much more likely to believe it uncritically. On the flip side, there are people who share your world view and are maybe even more similar to you than many people in your real life. Which makes your brain like them a lot and kind of hyper align with them. People who think like you are probably good people because you're a good person and whatever social group you belong to is good. So your brain is more likely to believe their opinions. If you hear bad things about them, your brain is much more likely to dismiss it uncritically. The engagement driven social internet makes it worse because it wants to keep you online as long as possible. And the most engaging emotion is unfortunately anger. The more angry you get, the more likely you are to share and engage. And this leads to social media amplifying the most extreme and controversial opinions. It optimizes not only to show us disagreement, but the worst disagreement possible. And because your stupid brain is sorting people into teams, whatever the worst opinions are, it assigns the same opinions to everybody on the other team. What's striking a new about online polarization is that all the aspects of our lives that makers individuals, our lifestyle choices, the comedians or shows we watch, our religion, sense of fashion and so on are condensed, making it seem that they're parts of opposing and mutually exclusive identities. This simplifies and distorts disagreements about how we should run society so much, that it often seems as if the people on the other team are actively willfully making the world worse. That they're almost evil beyond convincing with rationality, facts or civil discussion. While you are, of course, on the correct team, it may be hard to process that you may seem like that to people on the other team. On a societal level, this is dissolving the social glue that's the foundation of our democracies. If we think our neighbors are evil, how can we live together? This is especially bad in the US where the two-party system makes it extra easy to think of people in terms of teams. Negative opinion about the other party has reached record highs. Okay, is there something we can learn from this? Is there something we can do? Something more positive, opinion part. In the end, it's important to be aware of what social media does to your brain. It's easier to change yourself than to change the world so you can self-examine why you believe the things you believe and whether you dismiss or believe information based on who the person is who is stating that information. The internet comes with a lot of ups and downs and just like we had to adapt from living in small tribes to living in cities, we need to adapt to the information age where we have access to billions of people. Evolution is too slow, so we need to find models that work with what our brains are able to tolerate. One model that seemed to work well was the pre-social media internet old people might remember, but it in boards, forums, blogs. The main difference to today was two-fold. For one, there were no algorithms fighting to keep you online at any cost. At some point, you were done with the internet for the day, as mind-blowing as this may sound. But more importantly, the old internet was very fractured, split into thousands of different communities like small villages gathering around shed beliefs and interests. These villages were separated from each other by digital rivers or mountains. These communities worked because they mirrored real life much more than social media. Each village had its own culture and set of roles. Maybe one community was into rough humor and soft moderation, and other head-strict roles and bandies. If you didn't play by the village roles, you'd be banned, or you could just go and move to another village that suited you better. So instead of all of us gathering in one place, overwhelming our brain to the town square that in the end just leads us to going insane, one solution to achieve less social sorting may be extremely simple. Go back to smaller online communities. Because what our stupid brains don't realise is that we are actually all on the same team. Humanity, on a wet rock, speeding through space in a universe that doesn't think about us. We are all in this together. But until our brains are just to being able to deal with that, we might be better off being a tiny bit separated. One of the worst things about the media is that most news organizations tentacated to one team, making you feel you're on the correct site. Ground news, the sponsor of this video, is trying to make these biases more transparent by giving you tools that help you think critically about the information you consume, a mission we wholeheartedly support. Ground news gather related articles from around the world in one place so you can compare how different outlets and sides cover them. They provide context about the source of the information if they have a political bias, how reliable their reporting is, and who owns them. This makes the news less stressful and makes you understand the world much better. If you want to check them out, go to ground.news-natchel. If you sign up through this link, you'll get a 30% off their unlimited access plan. A subscription supports cuts, because I'd end ground news, so they can continue to build more media literacy tools. Our favorite tool has a personal background. In 2018, cuts, because I found a Philip who wrote this video, was going through chemotherapy and was intensely bored, so he ended up reading all the big German newspapers, even the ones he hated, front to back, every single day. Aside from the obvious biases, what was the most shocking with the stories each side did not talk about, both sides ignored things that are in convenient to their world views. The ground news blind spot feed, highlights this exact thing, showing you news stories that I heavily covered by one side of the political spectrum, and ignored by the other. So check them out at ground.news-natchel to make sure you're seeing the full picture.\n"
     ]
    }
   ],
   "source": [
    "result = model.transcribe(\"The Internet is Worse Than Ever – Now What.mp4\", fp16=False)\n",
    "print(result[\"text\"])"
   ]
  },
  {
   "cell_type": "code",
   "execution_count": 13,
   "id": "1545ca6d-c863-474f-a58e-7c56d4e15785",
   "metadata": {},
   "outputs": [
    {
     "name": "stdout",
     "output_type": "stream",
     "text": [
      " Lama index versus Langchain. What's the difference between these two libraries? When would you want to choose one over the other? This video is for anyone like me who's just started out and was trying to figure out, like, when do I need Langchain? Or why do I need Langchain versus Lama Index? Especially because there is a big overlap. And the overlap is that you can use either of these to query your own external data using a large language model. The difference is Lama Index is more focused on giving you a set of tools to create your own kind of knowledge graph for index using these different index types. So there's a list index. You can use the vector store index, tree index. And you can arrange and assemble these indexes in a way that makes sense for your data so that you can query it. Now with Langchain, the big feature, in my opinion, at least as the agents, the agents allow you to use the language model to make decisions about what tool to use. So for example, you can use within Langchain several different indexes as a tool and then use the Langchain agent as like a router to decide, OK, when should I use this list index? Or when do I use the vector store index? So Langchain is much more robust for creating these applications. But again, there's overlap. If you're just getting started, when I was just getting started, I was all in on Lama Index until I reached what I felt like were some limitations. And then I moved over to Langchain and started getting familiar with this as well. So for anyone just getting started, start with Lama Index until you reach a roadblock where you can't get any further. And then move on over to Langchain. You'll get it a lot easier that way. At least that's how I got it. Hopefully you found this useful. Any questions, leave them in the comments.\n"
     ]
    }
   ],
   "source": [
    "result = model.transcribe(\"Langchain vs LlamaIndex.mp4\", fp16=False)\n",
    "print(result[\"text\"])"
   ]
  },
  {
   "cell_type": "code",
   "execution_count": 11,
   "id": "8235deb1-3cd6-4641-a420-7be3f248fb16",
   "metadata": {},
   "outputs": [
    {
     "name": "stdout",
     "output_type": "stream",
     "text": [
      " Recently, Vector databases got a lot of fame with companies raising hundreds of millions of dollars to build them and people calling it a new kind of database for the AI era. On the other hand, for many projects, it might be an overkill solution and using a traditional database or even just a NumPy and DRA might work just fine. But there is no doubt that Vector databases are extremely fascinating and allow many great applications, especially when you want to give large language models like GPT-4 long-term memory. So in this video, I will explain in a very beginner-friendly way what Vector databases are and how they work. We will go over some use cases for them and then I will briefly show you some options you can use, so let's get started. So let's start with the Y. Over 80% of the data out there is unstructured, such as social media posts, images, videos or audio data. You cannot easily fit them into a relational database. Let's take an image as an example. If you want to put this into a relational database and are ready to search for similar images, what ends up happening is that often we manually assign keywords or tags to it. Because from the pixel values alone, we cannot really search for similar images. And the same holds true for unstructured text blobs or audio and video data. So we either have to assign tags or attributes to it, often manually, or we can find a different representation to store the data. And this brings us to Vector embeddings and Vector databases. In short, a Vector database indexes and stores Vector embeddings for fast retrieval and similarity search. So let's take a step back and look at those two important components. First, it uses clever algorithms to calculate the so-called Vector embeddings. This is done by machine learning models. A Vector embedding is just a list of numbers that represents the data in a different way. For example, you can calculate an embedding for a single word, a whole sentence, or an image. And now we have numerical data that the computer can understand. One easy possibility we get with Vectors is to find similar vectors by calculating the distances and doing a nearest neighbor search. So we can easily find similar items. For simplicity, I display a 2D case here, but in reality, of course those vectors can have hundreds of dimensions. But just storing the data as embeddings is not enough. Performing a very across thousands of Vectors based on its distance metric would be extremely slow. And this is why those Vectors also need to be indexed. So the indexing process is the second key element of a Vector database. An index is a data structure that facilitates the search process. So the indexing step maps the Vectors to a new data structure that will enable faster searching. This is a whole research field on its own and different ways to calculate indexes exist. So I won't go into details here, just know that indexes are needed for efficient search. So let's go over some use cases. I already mentioned that we can use Vector databases to equip large language models with long term memory. This is for example what you can easily implement with Langchain. We can use it for semantic search when we need to search not for exact string matches, but rather based on the meaning or context of our question. We can also use it for similarity search for images, audio or video data. So we can say, hey, find me a similar image to this one and we don't need to use some keywords or text to describe the image. Then we can use a Vector database as a ranking and recommendation engine. For example for online retailers, it can be used to suggest items similar to past purchases of a customer since we can simply identify the nearest neighbors of an item in our database. So now that you know some use cases, let's go over some options you can use as a Vector database. There are a number of Vector databases available. For example, we have Pinecon, VV8, Chroma, Redis also has a Vector database, Cootrant, Milvus or Westpile AI. So I won't go into details here, but if you want to see a separate video with an in-depth comparison, then let me know in the comments below. Alright, I hope you now have a good understanding of what Vector databases are and what you can do with them. If you want to see more explainer videos and AI tutorials, then make sure to subscribe to our channel and then I hope to see you in the next video. Bye!\n"
     ]
    }
   ],
   "source": [
    "result = model.transcribe(\"Vector Databases simply explained! (Embeddings & Indexes).mp4\", fp16=False)\n",
    "print(result[\"text\"])"
   ]
  },
  {
   "cell_type": "code",
   "execution_count": null,
   "id": "f9875ddf-f30d-4265-8866-bbedf76bbee3",
   "metadata": {},
   "outputs": [],
   "source": []
  }
 ],
 "metadata": {
  "kernelspec": {
   "display_name": "Python 3 (ipykernel)",
   "language": "python",
   "name": "python3"
  },
  "language_info": {
   "codemirror_mode": {
    "name": "ipython",
    "version": 3
   },
   "file_extension": ".py",
   "mimetype": "text/x-python",
   "name": "python",
   "nbconvert_exporter": "python",
   "pygments_lexer": "ipython3",
   "version": "3.9.6"
  }
 },
 "nbformat": 4,
 "nbformat_minor": 5
}
