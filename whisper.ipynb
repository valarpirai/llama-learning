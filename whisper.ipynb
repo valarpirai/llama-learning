{
   "cells": [
   {
   "cell_type": "code",
   "execution_count": 1,
   "id": "964ef350-a2d1-4b18-987a-ec1668f0b61e",
   "metadata": {},
   "outputs": [],
   "source": [
   "import whisper\n",
   "\n",
   "model = whisper.load_model(\"base\")"
   ]
   },
   {
   "cell_type": "code",
   "execution_count": 2,
   "id": "c3b79b71-1c10-4f5f-853c-28c4ad41d48c",
   "metadata": {},
   "outputs": [
   {
   "data": {
   "text/plain": [
   "'/Users/vaannadurai/reporting/kbase/langchain/Langchain vs LlamaIndex.mp4'"
   ]
   },
   "execution_count": 2,
   "metadata": {},
   "output_type": "execute_result"
   }
   ],
   "source": [
   "import pytube\n",
   "# Reading the above Taken movie Youtube link\n",
   "video = 'https://www.youtube.com/watch?v=-COOn68Gm4c&ab_channel=OmariHarebin'\n",
   "data = pytube.YouTube(video)\n",
   "# Converting and downloading as 'MP4' file\n",
   "audio = data.streams.get_audio_only()\n",
   "audio.download()"
   ]
   },
   {
   "cell_type": "code",
   "execution_count": 3,
   "id": "af1d61ed-2034-417c-8eba-720cf4c4a750",
   "metadata": {},
   "outputs": [
   {
   "name": "stdout",
   "output_type": "stream",
   "text": [
   " Lama index versus Langchain. What's the difference between these two libraries? When would you want to choose one over the other? This video is for anyone like me who's just started out and was trying to figure out, like, when do I need Langchain? Or why do I need Langchain versus Lama Index? Especially because there is a big overlap. And the overlap is that you can use either of these to query your own external data using a large language model. The difference is Lama Index is more focused on giving you a set of tools to create your own kind of knowledge graph for index using these different index types. So there's a list index. You can use the vector store index, tree index. And you can arrange and assemble these indexes in a way that makes sense for your data so that you can query it. Now with Langchain, the big feature, in my opinion, at least as the agents, the agents allow you to use the language model to make decisions about what tool to use. So for example, you can use within Langchain several different indexes as a tool and then use the Langchain agent as like a router to decide, OK, when should I use this list index? Or when do I use the vector store index? So Langchain is much more robust for creating these applications. But again, there's overlap. If you're just getting started, when I was just getting started, I was all in on Lama Index until I reached what I felt like were some limitations. And then I moved over to Langchain and started getting familiar with this as well. So for anyone just getting started, start with Lama Index until you reach a roadblock where you can't get any further. And then move on over to Langchain. You'll get it a lot easier that way. At least that's how I got it. Hopefully you found this useful. Any questions, leave them in the comments.\n"
   ]
   }
   ],
   "source": [
   "result = model.transcribe(\"test.mp4\", fp16=False)\n",
   "print(result[\"text\"])"
   ]
   },
   {
   "cell_type": "code",
   "execution_count": 13,
   "id": "1545ca6d-c863-474f-a58e-7c56d4e15785",
   "metadata": {},
   "outputs": [
   {
   "name": "stdout",
   "output_type": "stream",
   "text": [
   " Lama index versus Langchain. What's the difference between these two libraries? When would you want to choose one over the other? This video is for anyone like me who's just started out and was trying to figure out, like, when do I need Langchain? Or why do I need Langchain versus Lama Index? Especially because there is a big overlap. And the overlap is that you can use either of these to query your own external data using a large language model. The difference is Lama Index is more focused on giving you a set of tools to create your own kind of knowledge graph for index using these different index types. So there's a list index. You can use the vector store index, tree index. And you can arrange and assemble these indexes in a way that makes sense for your data so that you can query it. Now with Langchain, the big feature, in my opinion, at least as the agents, the agents allow you to use the language model to make decisions about what tool to use. So for example, you can use within Langchain several different indexes as a tool and then use the Langchain agent as like a router to decide, OK, when should I use this list index? Or when do I use the vector store index? So Langchain is much more robust for creating these applications. But again, there's overlap. If you're just getting started, when I was just getting started, I was all in on Lama Index until I reached what I felt like were some limitations. And then I moved over to Langchain and started getting familiar with this as well. So for anyone just getting started, start with Lama Index until you reach a roadblock where you can't get any further. And then move on over to Langchain. You'll get it a lot easier that way. At least that's how I got it. Hopefully you found this useful. Any questions, leave them in the comments.\n"
   ]
   }
   ],
   "source": [
   "result = model.transcribe(\"Langchain vs LlamaIndex.mp4\", fp16=False)\n",
   "print(result[\"text\"])"
   ]
   },
   {
   "cell_type": "code",
   "execution_count": 11,
   "id": "8235deb1-3cd6-4641-a420-7be3f248fb16",
   "metadata": {},
   "outputs": [
   {
   "name": "stdout",
   "output_type": "stream",
   "text": [
   " Recently, Vector databases got a lot of fame with companies raising hundreds of millions of dollars to build them and people calling it a new kind of database for the AI era. On the other hand, for many projects, it might be an overkill solution and using a traditional database or even just a NumPy and DRA might work just fine. But there is no doubt that Vector databases are extremely fascinating and allow many great applications, especially when you want to give large language models like GPT-4 long-term memory. So in this video, I will explain in a very beginner-friendly way what Vector databases are and how they work. We will go over some use cases for them and then I will briefly show you some options you can use, so let's get started. So let's start with the Y. Over 80% of the data out there is unstructured, such as social media posts, images, videos or audio data. You cannot easily fit them into a relational database. Let's take an image as an example. If you want to put this into a relational database and are ready to search for similar images, what ends up happening is that often we manually assign keywords or tags to it. Because from the pixel values alone, we cannot really search for similar images. And the same holds true for unstructured text blobs or audio and video data. So we either have to assign tags or attributes to it, often manually, or we can find a different representation to store the data. And this brings us to Vector embeddings and Vector databases. In short, a Vector database indexes and stores Vector embeddings for fast retrieval and similarity search. So let's take a step back and look at those two important components. First, it uses clever algorithms to calculate the so-called Vector embeddings. This is done by machine learning models. A Vector embedding is just a list of numbers that represents the data in a different way. For example, you can calculate an embedding for a single word, a whole sentence, or an image. And now we have numerical data that the computer can understand. One easy possibility we get with Vectors is to find similar vectors by calculating the distances and doing a nearest neighbor search. So we can easily find similar items. For simplicity, I display a 2D case here, but in reality, of course those vectors can have hundreds of dimensions. But just storing the data as embeddings is not enough. Performing a very across thousands of Vectors based on its distance metric would be extremely slow. And this is why those Vectors also need to be indexed. So the indexing process is the second key element of a Vector database. An index is a data structure that facilitates the search process. So the indexing step maps the Vectors to a new data structure that will enable faster searching. This is a whole research field on its own and different ways to calculate indexes exist. So I won't go into details here, just know that indexes are needed for efficient search. So let's go over some use cases. I already mentioned that we can use Vector databases to equip large language models with long term memory. This is for example what you can easily implement with Langchain. We can use it for semantic search when we need to search not for exact string matches, but rather based on the meaning or context of our question. We can also use it for similarity search for images, audio or video data. So we can say, hey, find me a similar image to this one and we don't need to use some keywords or text to describe the image. Then we can use a Vector database as a ranking and recommendation engine. For example for online retailers, it can be used to suggest items similar to past purchases of a customer since we can simply identify the nearest neighbors of an item in our database. So now that you know some use cases, let's go over some options you can use as a Vector database. There are a number of Vector databases available. For example, we have Pinecon, VV8, Chroma, Redis also has a Vector database, Cootrant, Milvus or Westpile AI. So I won't go into details here, but if you want to see a separate video with an in-depth comparison, then let me know in the comments below. Alright, I hope you now have a good understanding of what Vector databases are and what you can do with them. If you want to see more explainer videos and AI tutorials, then make sure to subscribe to our channel and then I hope to see you in the next video. Bye!\n"
   ]
   }
   ],
   "source": [
   "result = model.transcribe(\"Vector Databases simply explained! (Embeddings & Indexes).mp4\", fp16=False)\n",
   "print(result[\"text\"])"
   ]
   },
   {
   "cell_type": "code",
   "execution_count": null,
   "id": "f9875ddf-f30d-4265-8866-bbedf76bbee3",
   "metadata": {},
   "outputs": [],
   "source": []
   }
   ],
   "metadata": {
   "kernelspec": {
   "display_name": "Python 3 (ipykernel)",
   "language": "python",
   "name": "python3"
   },
   "language_info": {
   "codemirror_mode": {
   "name": "ipython",
   "version": 3
   },
   "file_extension": ".py",
   "mimetype": "text/x-python",
   "name": "python",
   "nbconvert_exporter": "python",
   "pygments_lexer": "ipython3",
   "version": "3.9.6"
   }
   },
   "nbformat": 4,
   "nbformat_minor": 5
   }
   