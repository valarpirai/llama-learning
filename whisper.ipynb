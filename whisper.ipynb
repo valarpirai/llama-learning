{
 "cells": [
  {
   "cell_type": "code",
   "execution_count": 2,
   "id": "964ef350-a2d1-4b18-987a-ec1668f0b61e",
   "metadata": {},
   "outputs": [],
   "source": [
    "import whisper\n",
    "import pytube\n",
    "\n",
    "model = whisper.load_model(\"./models/tiny.pt\")\n",
    "# model = whisper.load_model(\"base.en\")"
   ]
  },
  {
   "cell_type": "code",
   "execution_count": 8,
   "id": "c3b79b71-1c10-4f5f-853c-28c4ad41d48c",
   "metadata": {},
   "outputs": [
    {
     "name": "stdout",
     "output_type": "stream",
     "text": [
      "File :  /Users/vaannadurai/reporting/kbase/langchain/audios/Crab vs Eel vs Octopus  4K UHD  Blue Planet II  BBC Earth.mp4\n",
      " A sunny light-foot crab. One of thousands of shore crabs just waiting for their moment. Every day they gather on the tropical shores of Brazil. Waking for the tide to go out. Which exposes their feeding grounds. See-weed covered rocks, a hundred metres from the shore. Getting there is a race against the tide. They leap from rock to rock. They leap from rock to rock. These crabs seem to be afraid of the water. And for good reason. I'm worried aboutidelaseryfish. They're very cold-blooded. I can still be temporarily a progside river. But the sea roars countless perms. The chain, Moray, is a specialist crab hunter. Its blunt teeth can easily grip and crush a crab shell. It's the crabs that deadly a tsunami. But the crab's feeding grounds are still a long way off. They must press on. They must be careful. Halfway. But the enemy has other ideas. Crossing the land. To reset the ambush. To feed the crabs must keep going. But nowhere is safe. An octopus also a crab killer. The crab's make a dash for it. The crabs make a dash for it. The crab's make a dash for it. Made it. Risking life and limb. To graze on these seaweed pastures. But in two hours time when the tide starts to turn. They will have to run the gauntlet all over again. The crab's make a dash for it.\n"
     ]
    }
   ],
   "source": [
    "\n",
    "# Reading the above Taken movie Youtube link\n",
    "video = 'https://www.youtube.com/watch?v=yYt_psQXvEM&ab_channel=BBCEarth'\n",
    "data = pytube.YouTube(video)\n",
    "# Converting and downloading as 'MP4' file\n",
    "audio = data.streams.get_audio_only()\n",
    "downloaded_file = audio.download(output_path=\"audios/\")\n",
    "print(\"File : \", downloaded_file)\n",
    "\n",
    "result = model.transcribe(downloaded_file, fp16=False)\n",
    "print(result[\"text\"])"
   ]
  },
  {
   "cell_type": "code",
   "execution_count": 5,
   "id": "f9875ddf-f30d-4265-8866-bbedf76bbee3",
   "metadata": {},
   "outputs": [
    {
     "data": {
      "text/plain": [
       "True"
      ]
     },
     "execution_count": 5,
     "metadata": {},
     "output_type": "execute_result"
    }
   ],
   "source": [
    "import os\n",
    "os.path.isfile(\"./models/tiny.en.pt\")"
   ]
  }
 ],
 "metadata": {
  "kernelspec": {
   "display_name": "Python 3 (ipykernel)",
   "language": "python",
   "name": "python3"
  },
  "language_info": {
   "codemirror_mode": {
    "name": "ipython",
    "version": 3
   },
   "file_extension": ".py",
   "mimetype": "text/x-python",
   "name": "python",
   "nbconvert_exporter": "python",
   "pygments_lexer": "ipython3",
   "version": "3.9.6"
  }
 },
 "nbformat": 4,
 "nbformat_minor": 5
}
