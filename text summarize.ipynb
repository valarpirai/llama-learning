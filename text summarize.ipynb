{
 "cells": [
  {
   "cell_type": "code",
   "execution_count": 20,
   "id": "3959fbf9-faa2-42cd-9f91-bbafed726bee",
   "metadata": {},
   "outputs": [],
   "source": [
    "import torch\n",
    "from transformers import pipeline\n",
    "\n",
    "summarizer = pipeline(task=\"summarization\", model=\"t5-small\", min_length=20, max_length=40, truncation=True)"
   ]
  },
  {
   "cell_type": "code",
   "execution_count": 21,
   "id": "32c8d7f6-eab0-4d21-a596-cf98c2b1eb98",
   "metadata": {},
   "outputs": [
    {
     "name": "stderr",
     "output_type": "stream",
     "text": [
      "Your max_length is set to 250, but your input_length is only 220. Since this is a summarization task, where outputs shorter than the input are typically wanted, you might consider decreasing max_length manually, e.g. summarizer('...', max_length=110)\n"
     ]
    },
    {
     "name": "stdout",
     "output_type": "stream",
     "text": [
      "[{'summary_text': 'a little girl named Lily saw a butterfly with colorful wings . she tried to catch it, but it flew away . \"don\\'t worry, Lily. maybe it will come back later,\" says her mom .'}]\n",
      "a little girl named Lily saw a butterfly with colorful wings . she tried to catch it, but it flew away . \"don't worry, Lily. maybe it will come back later,\" says her mom .\n"
     ]
    }
   ],
   "source": [
    "input_text = \"state authorities dispatched emegency crews tuesday to survey the damage after a onslaught of severe weather in missisipi..\"\n",
    "\n",
    "input_text = \"Once upon a time, there was a little girl named Lily. She loved to play outside in the garden. One day, she saw a beautiful butterfly with colorful wings. She tried to catch it, but it flew away. Lily's mom came outside and asked, \\\"What are you doing, Lily?\\\"  \\\"I saw a pretty butterfly, but it flew away,\\\" replied Lily. \\\"Don't worry, Lily. Maybe it will come back later,\\\" said her mom. Suddenly, Lily saw a wire on the ground. She picked it up and tried to cut it with her toy scissors. But the wire was too hard, and she couldn't cut it.  \\\"I can't cut this wire, Mommy,\\\" said Lily. \\\"That's okay, sweetie. We can use this wire to make a pretty picture frame instead,\\\" said her mom. Lily was happy to help her mom make a pretty picture frame, and she forgot all about the butterfly.\"\n",
    "# input_text = \"translate engish to French: hello, how are you?\"\n",
    "output = summarizer(input_text, max_length=250, min_length=30, do_sample=False)\n",
    "summary = output[0]['summary_text']\n",
    "print(output)\n",
    "print(summary)\n"
   ]
  },
  {
   "cell_type": "code",
   "execution_count": null,
   "id": "672eae69-e44b-4a6b-b172-37e1f3aeccc0",
   "metadata": {},
   "outputs": [],
   "source": []
  }
 ],
 "metadata": {
  "kernelspec": {
   "display_name": "Python 3 (ipykernel)",
   "language": "python",
   "name": "python3"
  },
  "language_info": {
   "codemirror_mode": {
    "name": "ipython",
    "version": 3
   },
   "file_extension": ".py",
   "mimetype": "text/x-python",
   "name": "python",
   "nbconvert_exporter": "python",
   "pygments_lexer": "ipython3",
   "version": "3.12.4"
  }
 },
 "nbformat": 4,
 "nbformat_minor": 5
}
