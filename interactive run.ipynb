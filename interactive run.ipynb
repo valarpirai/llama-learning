{
 "cells": [
  {
   "cell_type": "code",
   "execution_count": 31,
   "id": "05ea6408-7bd9-4988-be56-a29166b7aa97",
   "metadata": {},
   "outputs": [
    {
     "name": "stdout",
     "output_type": "stream",
     "text": [
      "Running on local URL:  http://127.0.0.1:7880\n",
      "\n",
      "To create a public link, set `share=True` in `launch()`.\n"
     ]
    },
    {
     "data": {
      "text/html": [
       "<div><iframe src=\"http://127.0.0.1:7880/\" width=\"100%\" height=\"500\" allow=\"autoplay; camera; microphone; clipboard-read; clipboard-write;\" frameborder=\"0\" allowfullscreen></iframe></div>"
      ],
      "text/plain": [
       "<IPython.core.display.HTML object>"
      ]
     },
     "metadata": {},
     "output_type": "display_data"
    },
    {
     "name": "stdout",
     "output_type": "stream",
     "text": [
      "model: stories15M.bin, max_token: 256, temperature: 0.8, top_p: 0.9, prompt: Once upon a time, there was a elephant\n",
      "----------------------------\n",
      "\n",
      "[\"Once upon a time, there was a elephant named Ellie. Ellie was very big and grey. She had a long trunk that she used to pick up things and eat leaves. One day, Ellie saw a little bird who was very sad. The bird had lost his way and didn't know how to get back home. Ellie felt compassionate and wanted to help the little bird.\", 'Ellie used her trunk to lift the bird up and put him back in his nest. The bird was very happy and thanked Ellie. Ellie felt proud of herself for being kind and helpful. From that day on, Ellie and the little bird became good friends and played together every day.achieved tok/s: 57.230065', '']\n",
      "model: stories42M.bin, max_token: 256, temperature: 0.8, top_p: 0.9, prompt: Once upon a time, there was a elephant\n",
      "----------------------------\n",
      "\n",
      "['Once upon a time, there was a elephant. He was big and gray. One day, he was walking in the jungle and he saw a banana tree. He wanted to eat the bananas, but he was too big to reach them. So, he decided to roll the tree down to get the bananas. The bananas fell down and the elephant was very happy.', \"But, the elephant was also very clumsy. He bumped into a tree and the tree fell down too. The elephant was sad because he couldn't eat the bananas. He tried to roll the tree again, but it was too heavy. He couldn't move it. The elephant was very upset and went to sleep.\", \"The next day, the elephant woke up and tried to move the tree again. But he was too clumsy and he couldn't do it. He fell on the ground and hurt himself. The elephant was very sad because he couldn't eat the bananas and he was hurt. The end.achieved tok/s: 19.269606\", '']\n"
     ]
    }
   ],
   "source": [
    "import gradio as gr\n",
    "\n",
    "temperature = 0.8 #@param {type:\"slider\", min:0.0, max:1, step:0.05}\n",
    "top_p = 0.9 #@param {type:\"slider\", min:0.0, max:1.0, step:0.05}\n",
    "\n",
    "def generate_story(model_file, max_token, prompt):\n",
    "    print(f\"model: {model_file}, max_token: {max_token}, temperature: {temperature}, top_p: {top_p}, prompt: {prompt}\")\n",
    "    print(f\"----------------------------\\n\")    \n",
    "    cmd = f'./run {model_file} -t {temperature} -p {top_p} -n {max_token} -i \"{prompt}\"'\n",
    "    # print(cmd)\n",
    "    response = !{cmd}\n",
    "    print(response)\n",
    "    return \" \".join(response)\n",
    "\n",
    "def greet(model=\"stories15M\", max_token=256, prompt=\"\"):\n",
    "\n",
    "    response = generate_story(model + \".bin\", max_token, prompt)\n",
    "    index = response.index(\"achieved tok/s:\")\n",
    "    return [response[:index], response[index:]]\n",
    "\n",
    "demo = gr.Interface(\n",
    "    fn=greet,\n",
    "    inputs=[\n",
    "        gr.Radio([\"stories15M\", \"stories42M\"], value=\"stories15M\"),\n",
    "        gr.Slider(100, 512,  256),\n",
    "        gr.Textbox(value=\"Once upon a time\", label=\"Prompt: \\n examples 'One day, Lily met a Shoggoth', 'Once upon a time, there was'\")],\n",
    "    outputs=[gr.Textbox(label=\"Here comes the story\"), gr.Textbox(label=\"Token generation per sec\")],\n",
    ")\n",
    "\n",
    "    \n",
    "if __name__ == \"__main__\":\n",
    "    demo.launch(show_api=False)   "
   ]
  },
  {
   "cell_type": "code",
   "execution_count": null,
   "id": "abfa434b-5a37-4985-ad57-0fb1c0acab7d",
   "metadata": {},
   "outputs": [],
   "source": []
  }
 ],
 "metadata": {
  "kernelspec": {
   "display_name": "Python 3 (ipykernel)",
   "language": "python",
   "name": "python3"
  },
  "language_info": {
   "codemirror_mode": {
    "name": "ipython",
    "version": 3
   },
   "file_extension": ".py",
   "mimetype": "text/x-python",
   "name": "python",
   "nbconvert_exporter": "python",
   "pygments_lexer": "ipython3",
   "version": "3.9.6"
  }
 },
 "nbformat": 4,
 "nbformat_minor": 5
}
