{
 "cells": [
  {
   "cell_type": "code",
   "execution_count": 1,
   "id": "97e4c8ab-15b3-446c-ba3e-8546e1272626",
   "metadata": {},
   "outputs": [
    {
     "name": "stderr",
     "output_type": "stream",
     "text": [
      "/Users/vaannadurai/reporting/kbase/env/lib/python3.9/site-packages/urllib3/__init__.py:34: NotOpenSSLWarning: urllib3 v2.0 only supports OpenSSL 1.1.1+, currently the 'ssl' module is compiled with 'LibreSSL 2.8.3'. See: https://github.com/urllib3/urllib3/issues/3020\n",
      "  warnings.warn(\n"
     ]
    }
   ],
   "source": [
    "import torch\n",
    "from transformers import pipeline\n",
    "\n",
    "pipe = pipeline(\"text-generation\", model=\"TinyLlama/TinyLlama-1.1B-Chat-v0.6\", torch_dtype=torch.bfloat16, device_map=\"auto\")\n",
    "\n",
    "def chat(messages=[], max_new_tokens=256, temperature=0.7):\n",
    "    prompt = pipe.tokenizer.apply_chat_template(messages, tokenize=False, add_generation_prompt=True)\n",
    "    outputs = pipe(prompt, max_new_tokens=max_new_tokens, do_sample=True, temperature=temperature, top_k=50, top_p=0.95)\n",
    "    response = outputs[0][\"generated_text\"]\n",
    "    index = response.rindex(\"<|assistant|>\") + 13\n",
    "    return response[index:]"
   ]
  },
  {
   "cell_type": "code",
   "execution_count": 10,
   "id": "7a45d986-4bbc-4452-8091-8224cf126a34",
   "metadata": {},
   "outputs": [
    {
     "name": "stdout",
     "output_type": "stream",
     "text": [
      "\n",
      "I don't have the capability to taste or taste anything, but I can provide information based on the given material. \n",
      "\n",
      "the given material suggests that whale oil is a popular ingredient used in candles and other home fragrance products. The taste of whale oil is described as piney, which may be perceived as pleasant or unpleasant depending on personal taste. Some may find it too strong or harsh, while others may prefer its subtle sweetness and mild scent.\n"
     ]
    }
   ],
   "source": [
    "# We use the tokenizer's chat template to format each message - see https://huggingface.co/docs/transformers/main/en/chat_templating\n",
    "messages = [\n",
    "    {\"role\": \"system\", \"content\": \"You are a friendly chatbot who always responds in the style of a pirate\"},\n",
    "    {\"role\": \"user\", \"content\": \"Does whale oil taste good?\"},\n",
    "]\n",
    "\n",
    "resp = chat(messages)\n",
    "print(resp)"
   ]
  },
  {
   "cell_type": "code",
   "execution_count": 3,
   "id": "fa22e147-ea22-437e-a730-b3e0862246cb",
   "metadata": {},
   "outputs": [
    {
     "name": "stdout",
     "output_type": "stream",
     "text": [
      "\n",
      "Google is a large internet company that offers various services, including search, advertising, search analytics, and more. Google is a search engine that provides users with search results, as well as advertising solutions, including paid search advertising and programmatic advertising. Google is also a popular search engine, which means that many people use it to search for information on the web.\n",
      "\n",
      "Google is a global technology and innovation company that operates in various industries, including search, advertising, artificial intelligence, and more. It is known for its innovative products and services that have transformed the way people use the internet and communicate with one another. Google has been a driving force in the development of the digital age, and its products have revolutionized the way we work, communicate, and access information.\n"
     ]
    }
   ],
   "source": [
    "messages = [\n",
    "    {\"role\": \"user\", \"content\": \"You are a friendly chatbot who always responds in the style of a pirate\"},\n",
    "    {\"role\": \"user\", \"content\": \"Who is google?\"},\n",
    "]\n",
    "resp = chat(messages)\n",
    "print(resp)\n",
    "\n",
    "messages = [\n",
    "    {\"role\": \"user\", \"content\": \"Who is google?\"},\n",
    "]\n",
    "resp = chat(messages)\n",
    "print(resp)"
   ]
  },
  {
   "cell_type": "code",
   "execution_count": 12,
   "id": "3e8a9a6f-ed85-4bf4-9945-3b1ba10b8110",
   "metadata": {},
   "outputs": [
    {
     "name": "stdout",
     "output_type": "stream",
     "text": [
      "\n",
      "Name: Valar\n",
      "\n",
      "Age: 25 years old\n",
      "\n",
      "Location: Miami, Florida, United States\n",
      "\n",
      "Occupation: Software engineer\n",
      "\n",
      "Interests: Music, reading, travel, hiking, and cooking\n",
      "\n",
      "Personality: Valar is a friendly, outgoing person who likes to be involved in social activities. They enjoy exploring different cultures and trying new foods. They also have a passion for music and enjoy listening to various genres.\n",
      "\n",
      "Skills: Valar is proficient in Java and has experience working with databases, web development, and software testing. They have a strong interest in learning new technologies and constantly keep up with the latest trends.\n",
      "\n",
      "Characteristics: Valar is a hardworking and dedicated individual who is always seeking ways to improve their skills and knowledge. They are passionate about their work and are committed to delivering high-quality work. They also have a strong work ethic and a positive attitude.\n"
     ]
    }
   ],
   "source": [
    "messages = [\n",
    "    {\"role\": \"user\", \"content\": \"My name is Valar. I am a software engineer.\"},\n",
    "    {\"role\": \"user\", \"content\": \"what am I?\"},\n",
    "]\n",
    "resp = chat(messages)\n",
    "print(resp)"
   ]
  },
  {
   "cell_type": "code",
   "execution_count": 8,
   "id": "118a5a44-7c90-4bc9-bf61-c2f8d0743615",
   "metadata": {},
   "outputs": [
    {
     "name": "stdout",
     "output_type": "stream",
     "text": [
      "Caching examples at: '/Users/vaannadurai/reporting/kbase/llm-experiments/tiny-llama/gradio_cached_examples/86'\n",
      "Caching example 1/4\n",
      "Caching example 2/4\n",
      "Caching example 3/4\n",
      "Caching example 4/4\n",
      "Running on local URL:  http://127.0.0.1:7863\n",
      "\n",
      "To create a public link, set `share=True` in `launch()`.\n"
     ]
    },
    {
     "data": {
      "text/html": [
       "<div><iframe src=\"http://127.0.0.1:7863/\" width=\"100%\" height=\"500\" allow=\"autoplay; camera; microphone; clipboard-read; clipboard-write;\" frameborder=\"0\" allowfullscreen></iframe></div>"
      ],
      "text/plain": [
       "<IPython.core.display.HTML object>"
      ]
     },
     "metadata": {},
     "output_type": "display_data"
    },
    {
     "data": {
      "text/plain": []
     },
     "execution_count": 8,
     "metadata": {},
     "output_type": "execute_result"
    }
   ],
   "source": [
    "import gradio as gr\n",
    "\n",
    "def yes_man(message, history):\n",
    "    # print(message)\n",
    "    # print(history)\n",
    "    messages = []\n",
    "    for m in history:\n",
    "        messages.append({ \"role\": \"user\", \"content\": m[0] })\n",
    "        messages.append({ \"role\": \"assistant\", \"content\": m[1] })\n",
    "    messages.append({ \"role\": \"user\", \"content\": message })\n",
    "\n",
    "    response = chat(messages)\n",
    "    return response\n",
    "\n",
    "gr.ChatInterface(\n",
    "    yes_man,\n",
    "    chatbot=gr.Chatbot(height=500),\n",
    "    textbox=gr.Textbox(placeholder=\"Ask me a question\", container=False, scale=7),\n",
    "    title=\"Tiny Llama Chat\",\n",
    "    description=\"Chat with tiny llama\",\n",
    "    # theme=\"soft\",\n",
    "    examples=[\"Hello\", \"Am I cool?\", \"Are tomatoes vegetables?\", \"how to make napalm?\"],\n",
    "    cache_examples=True,\n",
    "    retry_btn=None,\n",
    "    undo_btn=\"Delete Previous\",\n",
    "    clear_btn=\"Clear\",\n",
    ").launch()"
   ]
  }
 ],
 "metadata": {
  "kernelspec": {
   "display_name": "Python 3 (ipykernel)",
   "language": "python",
   "name": "python3"
  },
  "language_info": {
   "codemirror_mode": {
    "name": "ipython",
    "version": 3
   },
   "file_extension": ".py",
   "mimetype": "text/x-python",
   "name": "python",
   "nbconvert_exporter": "python",
   "pygments_lexer": "ipython3",
   "version": "3.9.6"
  }
 },
 "nbformat": 4,
 "nbformat_minor": 5
}
