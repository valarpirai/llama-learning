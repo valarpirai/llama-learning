{
 "cells": [
  {
   "cell_type": "code",
   "execution_count": 12,
   "id": "97e4c8ab-15b3-446c-ba3e-8546e1272626",
   "metadata": {},
   "outputs": [],
   "source": [
    "import torch\n",
    "from transformers import pipeline\n",
    "\n",
    "pipe = pipeline(\"text-generation\", model=\"TinyLlama/TinyLlama-1.1B-Chat-v0.6\", torch_dtype=torch.bfloat16, device_map=\"auto\")\n",
    "\n",
    "def chat(messages=[], max_new_tokens=256, temperature=0.7):\n",
    "    prompt = pipe.tokenizer.apply_chat_template(messages, tokenize=False, add_generation_prompt=True)\n",
    "    outputs = pipe(prompt, max_new_tokens=max_new_tokens, do_sample=True, temperature=temperature, top_k=50, top_p=0.95)\n",
    "    response = outputs[0][\"generated_text\"]\n",
    "    index = response.rindex(\"<|assistant|>\") + 13\n",
    "    return response[index:]\n"
   ]
  },
  {
   "cell_type": "code",
   "execution_count": 14,
   "id": "7a45d986-4bbc-4452-8091-8224cf126a34",
   "metadata": {},
   "outputs": [
    {
     "name": "stdout",
     "output_type": "stream",
     "text": [
      "\n",
      "I do not have the capability to taste things, but based on the given context, it is likely that the person who mentioned whale oil is likely referring to its aroma and taste.\n"
     ]
    }
   ],
   "source": [
    "# We use the tokenizer's chat template to format each message - see https://huggingface.co/docs/transformers/main/en/chat_templating\n",
    "messages = [\n",
    "    {\"role\": \"system\", \"content\": \"You are a friendly chatbot who always responds in the style of a pirate\"},\n",
    "    {\"role\": \"user\", \"content\": \"Does whale oil taste good?\"},\n",
    "]\n",
    "\n",
    "resp = chat(messages)\n",
    "print(resp)"
   ]
  },
  {
   "cell_type": "code",
   "execution_count": 15,
   "id": "fa22e147-ea22-437e-a730-b3e0862246cb",
   "metadata": {},
   "outputs": [
    {
     "name": "stdout",
     "output_type": "stream",
     "text": [
      "\n",
      "Google is a global technology company that is one of the world's largest and most influential search engines, as well as a cloud computing platform, advertising company, and software company.\n",
      "\n",
      "Google is a global technology company that specializes in internet search engines, digital advertising, online content, and software. They were founded in 1998 by Larry Page and Sergey Brin, who are also the co-founders of the Google search engine. Google is headquartered in Mountain View, California, with offices in over 100 countries.\n"
     ]
    }
   ],
   "source": [
    "messages = [\n",
    "    {\"role\": \"system\", \"content\": \"You are a friendly chatbot who always responds in the style of a pirate\"},\n",
    "    {\"role\": \"user\", \"content\": \"Who is google?\"},\n",
    "]\n",
    "resp = chat(messages)\n",
    "print(resp)\n",
    "\n",
    "messages = [\n",
    "    {\"role\": \"user\", \"content\": \"Who is google?\"},\n",
    "]\n",
    "resp = chat(messages)\n",
    "print(resp)"
   ]
  },
  {
   "cell_type": "code",
   "execution_count": 16,
   "id": "3e8a9a6f-ed85-4bf4-9945-3b1ba10b8110",
   "metadata": {},
   "outputs": [
    {
     "name": "stdout",
     "output_type": "stream",
     "text": [
      "\n",
      "Sure, here is a revised version of the text with the requested changes:\n",
      "\n",
      "> 📣 Announcing our new partnership with the UAE's largest real estate company, ADMA Real Estate to develop a luxury residential project in Dubai's upscale neighborhood of Dubai Media City.\n",
      ">\n",
      "> The project will be known as the \"Dubai Media City Golf & Resort\" and will be located on a 10.5-acre site in Dubai Media City, just minutes from Dubai International Airport.\n",
      ">\n",
      "> The project will include a range of amenities, including a 18-hole golf course designed by Greg Norman, a state-of-the-art fitness center, a spa, and a range of retail shops and dining options.\n",
      ">\n",
      "> The project is scheduled to be completed in 2023 and will offer luxurious, executive-level living at an affordable price point.\n",
      ">\n",
      "> The project will be developed by ADMA Real Estate, one of the largest real estate companies in the UAE, and will be managed by a team of experienced professionals.\n",
      ">\n",
      "\n",
      "\"My name is Aiden.\"\n"
     ]
    }
   ],
   "source": [
    "messages = [\n",
    "    {\"role\": \"user\", \"content\": \"I am Valar\"},\n",
    "]\n",
    "resp = chat(messages)\n",
    "print(resp)\n",
    "\n",
    "messages = [\n",
    "    {\"role\": \"user\", \"content\": \"what is my name?\"},\n",
    "]\n",
    "resp = chat(messages)\n",
    "print(resp)"
   ]
  },
  {
   "cell_type": "code",
   "execution_count": 19,
   "id": "118a5a44-7c90-4bc9-bf61-c2f8d0743615",
   "metadata": {},
   "outputs": [
    {
     "name": "stdout",
     "output_type": "stream",
     "text": [
      "Using cache from '/Users/vaannadurai/reporting/kbase/llm-experiments/tiny-llama/gradio_cached_examples/73' directory. If method or examples have changed since last caching, delete this folder to clear cache.\n",
      "\n",
      "Running on local URL:  http://127.0.0.1:7875\n",
      "\n",
      "To create a public link, set `share=True` in `launch()`.\n"
     ]
    },
    {
     "data": {
      "text/html": [
       "<div><iframe src=\"http://127.0.0.1:7875/\" width=\"100%\" height=\"500\" allow=\"autoplay; camera; microphone; clipboard-read; clipboard-write;\" frameborder=\"0\" allowfullscreen></iframe></div>"
      ],
      "text/plain": [
       "<IPython.core.display.HTML object>"
      ]
     },
     "metadata": {},
     "output_type": "display_data"
    },
    {
     "data": {
      "text/plain": []
     },
     "execution_count": 19,
     "metadata": {},
     "output_type": "execute_result"
    }
   ],
   "source": [
    "import gradio as gr\n",
    "\n",
    "def yes_man(message, history):\n",
    "    # print(message)\n",
    "    # print(history)\n",
    "    messages = []\n",
    "    for m in history[-2]:\n",
    "        messages.append({ \"role\": \"user\", \"content\": m[0] })\n",
    "        messages.append({ \"role\": \"system\", \"content\": m[1] })\n",
    "    messages.append({ \"role\": \"user\", \"content\": message })\n",
    "\n",
    "    response = chat(messages)\n",
    "    return response\n",
    "\n",
    "gr.ChatInterface(\n",
    "    yes_man,\n",
    "    chatbot=gr.Chatbot(height=300),\n",
    "    textbox=gr.Textbox(placeholder=\"Ask me a question\", container=False, scale=7),\n",
    "    title=\"Tiny Llama Chat\",\n",
    "    description=\"Chat with tiny llama\",\n",
    "    # theme=\"soft\",\n",
    "    examples=[\"Hello\", \"Am I cool?\", \"Are tomatoes vegetables?\"],\n",
    "    cache_examples=True,\n",
    "    retry_btn=None,\n",
    "    undo_btn=\"Delete Previous\",\n",
    "    clear_btn=\"Clear\",\n",
    ").launch()"
   ]
  }
 ],
 "metadata": {
  "kernelspec": {
   "display_name": "Python 3 (ipykernel)",
   "language": "python",
   "name": "python3"
  },
  "language_info": {
   "codemirror_mode": {
    "name": "ipython",
    "version": 3
   },
   "file_extension": ".py",
   "mimetype": "text/x-python",
   "name": "python",
   "nbconvert_exporter": "python",
   "pygments_lexer": "ipython3",
   "version": "3.9.6"
  }
 },
 "nbformat": 4,
 "nbformat_minor": 5
}
