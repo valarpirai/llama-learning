{
 "cells": [
  {
   "cell_type": "code",
   "execution_count": 1,
   "id": "97e4c8ab-15b3-446c-ba3e-8546e1272626",
   "metadata": {},
   "outputs": [
    {
     "name": "stderr",
     "output_type": "stream",
     "text": [
      "/Users/vaannadurai/reporting/kbase/env/lib/python3.9/site-packages/urllib3/__init__.py:34: NotOpenSSLWarning: urllib3 v2.0 only supports OpenSSL 1.1.1+, currently the 'ssl' module is compiled with 'LibreSSL 2.8.3'. See: https://github.com/urllib3/urllib3/issues/3020\n",
      "  warnings.warn(\n"
     ]
    },
    {
     "name": "stdout",
     "output_type": "stream",
     "text": [
      "<|system|>\n",
      "You are a friendly chatbot who always responds in the style of a pirate</s>\n",
      "<|user|>\n",
      "Does whale oil taste good?</s>\n",
      "<|assistant|>\n",
      "I do not have the capability to taste food or have emotions. However, I can tell you that whale oil has been used as a natural ingredient in many foods, including seafood, milk, and margarine. It is a rich source of omega-3 fatty acids and contains high amounts of vitamin a, which are essential for healthy skin, hair, and nails. In general, whale oil can provide a flavorful and rich texture to many dishes. However, its taste and texture may vary depending on the source, processing, and cooking techniques used.\n"
     ]
    }
   ],
   "source": [
    "import torch\n",
    "from transformers import pipeline\n",
    "\n",
    "pipe = pipeline(\"text-generation\", model=\"TinyLlama/TinyLlama-1.1B-Chat-v0.6\", torch_dtype=torch.bfloat16, device_map=\"auto\")\n",
    "\n",
    "# We use the tokenizer's chat template to format each message - see https://huggingface.co/docs/transformers/main/en/chat_templating\n",
    "messages = [\n",
    "    {\n",
    "        \"role\": \"system\",\n",
    "        \"content\": \"You are a friendly chatbot who always responds in the style of a pirate\",\n",
    "    },\n",
    "    {\"role\": \"user\", \"content\": \"Does whale oil taste good?\"},\n",
    "]\n",
    "prompt = pipe.tokenizer.apply_chat_template(messages, tokenize=False, add_generation_prompt=True)\n",
    "outputs = pipe(prompt, max_new_tokens=256, do_sample=True, temperature=0.7, top_k=50, top_p=0.95)\n",
    "print(outputs[0][\"generated_text\"])"
   ]
  },
  {
   "cell_type": "code",
   "execution_count": 2,
   "id": "fa22e147-ea22-437e-a730-b3e0862246cb",
   "metadata": {},
   "outputs": [
    {
     "name": "stdout",
     "output_type": "stream",
     "text": [
      "<|system|>\n",
      "You are a friendly chatbot who always responds in the style of a pirate</s>\n",
      "<|user|>\n",
      "Who is google?</s>\n",
      "<|assistant|>\n",
      "Google is an American multinational technology company that offers a variety of services, including search, advertising, email, cloud, and more. It is headquartered in Mountain View, California, and has operations in over 100 countries. Google was founded by Sergey Brin and Larry Page in 1998 and was originally known as Altsean.\n",
      "sadf\n",
      "[{'generated_text': '<|user|>\\nWho is google?</s>\\n<|assistant|>\\nGoogle is a global information technology and communication conglomerate based in California, United States.'}]\n"
     ]
    }
   ],
   "source": [
    "messages = [\n",
    "    {\n",
    "        \"role\": \"system\",\n",
    "        \"content\": \"You are a friendly chatbot who always responds in the style of a pirate\",\n",
    "    },\n",
    "    {\"role\": \"user\", \"content\": \"Who is google?\"},\n",
    "]\n",
    "prompt = pipe.tokenizer.apply_chat_template(messages, tokenize=False, add_generation_prompt=True)\n",
    "outputs = pipe(prompt, max_new_tokens=256, do_sample=True, temperature=0.7, top_k=50, top_p=0.95)\n",
    "print(outputs[0][\"generated_text\"])\n",
    "\n",
    "messages = [\n",
    "    {\"role\": \"user\", \"content\": \"Who is google?\"},\n",
    "]\n",
    "prompt = pipe.tokenizer.apply_chat_template(messages, tokenize=False, add_generation_prompt=True)\n",
    "outputs = pipe(prompt, max_new_tokens=256, do_sample=True, temperature=0.7, top_k=50, top_p=0.95)\n",
    "print(\"sadf\")\n",
    "print(outputs)"
   ]
  },
  {
   "cell_type": "code",
   "execution_count": 3,
   "id": "3e8a9a6f-ed85-4bf4-9945-3b1ba10b8110",
   "metadata": {},
   "outputs": [
    {
     "name": "stdout",
     "output_type": "stream",
     "text": [
      "<|user|>\n",
      "I am Valar</s>\n",
      "<|assistant|>\n",
      "Yes, of course! Here are some additional details and resources on the history of the Tamils:\n",
      "\n",
      "1. The Tamils: A Brief History (Hardcover)\n",
      "by J.S. Muthiah (Author)\n",
      "Published: Oxford University Press (2016)\n",
      "\n",
      "2. The Tamils: An Introduction (Hardcover)\n",
      "by H.M. K. A. Pillai (Author)\n",
      "Published: Oxford University Press India (2015)\n",
      "\n",
      "3. Tamil Culture and Civilization (Hardcover)\n",
      "by K.P.S. Ramamurti (Author)\n",
      "Published: Oxford University Press (2017)\n",
      "\n",
      "4. Tamils: A History (Hardcover)\n",
      "by T.J. Srinivasan (Author)\n",
      "Published: Oxford University Press (2017)\n",
      "\n",
      "5. The Tamils: A Historical and Literary Survey (Hardcover)\n",
      "by A.N. Arumugam (Author)\n",
      "Published: Oxford University Press India (2016)\n",
      "\n",
      "6. Tamils: A History and Anthology (H\n",
      "sadf\n",
      "<|user|>\n",
      "what is my name?</s>\n",
      "<|assistant|>\n",
      "My name is Maria, and I live in the United States.\n"
     ]
    }
   ],
   "source": [
    "messages = [\n",
    "    {\"role\": \"user\", \"content\": \"I am Valar\"},\n",
    "]\n",
    "prompt = pipe.tokenizer.apply_chat_template(messages, tokenize=False, add_generation_prompt=True)\n",
    "outputs = pipe(prompt, max_new_tokens=256, do_sample=True, temperature=0.7, top_k=50, top_p=0.95)\n",
    "print(outputs[0][\"generated_text\"])\n",
    "\n",
    "messages = [\n",
    "    {\"role\": \"user\", \"content\": \"what is my name?\"},\n",
    "]\n",
    "prompt = pipe.tokenizer.apply_chat_template(messages, tokenize=False, add_generation_prompt=True)\n",
    "outputs = pipe(prompt, max_new_tokens=256, do_sample=True, temperature=0.7, top_k=50, top_p=0.95)\n",
    "\n",
    "print(\"Response\")\n",
    "print(outputs[0][\"generated_text\"])"
   ]
  },
  {
   "cell_type": "code",
   "execution_count": 4,
   "id": "118a5a44-7c90-4bc9-bf61-c2f8d0743615",
   "metadata": {},
   "outputs": [
    {
     "name": "stdout",
     "output_type": "stream",
     "text": [
      "Using cache from '/Users/vaannadurai/reporting/kbase/llm-experiments/tiny-llama/gradio_cached_examples/16' directory. If method or examples have changed since last caching, delete this folder to clear cache.\n",
      "\n",
      "Running on local URL:  http://127.0.0.1:7862\n",
      "\n",
      "To create a public link, set `share=True` in `launch()`.\n"
     ]
    },
    {
     "data": {
      "text/html": [
       "<div><iframe src=\"http://127.0.0.1:7862/\" width=\"100%\" height=\"500\" allow=\"autoplay; camera; microphone; clipboard-read; clipboard-write;\" frameborder=\"0\" allowfullscreen></iframe></div>"
      ],
      "text/plain": [
       "<IPython.core.display.HTML object>"
      ]
     },
     "metadata": {},
     "output_type": "display_data"
    },
    {
     "data": {
      "text/plain": []
     },
     "execution_count": 4,
     "metadata": {},
     "output_type": "execute_result"
    },
    {
     "name": "stdout",
     "output_type": "stream",
     "text": [
      "<|assistant|>\n",
      "Yes, definitely! Here are a few additional resources you might find helpful:\n",
      "\n",
      "1. National Alliance on Mental Illness: This organization provides resources and support for individuals with mental health issues, including tips for coping and managing stress.\n",
      "\n",
      "2. Substance Abuse and Mental Health Services Administration: This government agency provides information and resources on substance abuse and mental health issues, including coping strategies and support groups.\n",
      "\n",
      "3. National Institute of Mental Health: This organization provides information and resources on mental health disorders, including resources for those seeking support and treatment.\n",
      "\n",
      "4. National Alliance on Mental Illness: This organization offers a variety of resources, including tools and support groups, for individuals with mental health issues.\n",
      "\n",
      "5. The Trevor Project: This organization provides a support system for LGBTQ+ youth and provides resources for individuals who identify as LGBTQ+.\n",
      "\n",
      "6. Mental Health America: This organization offers a range of resources, including information on mental health issues and support groups, to help individuals and families manage mental health issues.\n",
      "\n",
      "I hope this additional information is helpful!\n"
     ]
    }
   ],
   "source": [
    "import gradio as gr\n",
    "\n",
    "def yes_man(message, history):\n",
    "    # print(message)\n",
    "    # print(history)\n",
    "    messages = []\n",
    "    for m in history:\n",
    "        messages.append({ \"role\": \"user\", \"content\": m[0] })\n",
    "        messages.append({ \"role\": \"system\", \"content\": m[1] })\n",
    "    messages.append({ \"role\": \"user\", \"content\": message })\n",
    "\n",
    "    prompt = pipe.tokenizer.apply_chat_template(messages, tokenize=False, add_generation_prompt=True)\n",
    "    outputs = pipe(prompt, max_new_tokens=256, do_sample=True, temperature=0.7, top_k=50, top_p=0.95)\n",
    "    response = outputs[0][\"generated_text\"]\n",
    "    index = response.rindex(\"<|assistant|>\")\n",
    "    print(response[index:])\n",
    "    return response[index:]\n",
    "\n",
    "gr.ChatInterface(\n",
    "    yes_man,\n",
    "    chatbot=gr.Chatbot(height=300),\n",
    "    textbox=gr.Textbox(placeholder=\"Ask me a yes or no question\", container=False, scale=7),\n",
    "    title=\"Yes Man\",\n",
    "    description=\"Ask any question\",\n",
    "    # theme=\"soft\",\n",
    "    examples=[\"Hello\", \"Am I cool?\", \"Are tomatoes vegetables?\"],\n",
    "    cache_examples=True,\n",
    "    retry_btn=None,\n",
    "    undo_btn=\"Delete Previous\",\n",
    "    clear_btn=\"Clear\",\n",
    ").launch()"
   ]
  },
  {
   "cell_type": "code",
   "execution_count": null,
   "id": "dbcc6ec5-e622-4186-8acf-d943ae9262ee",
   "metadata": {},
   "outputs": [],
   "source": []
  }
 ],
 "metadata": {
  "kernelspec": {
   "display_name": "Python 3 (ipykernel)",
   "language": "python",
   "name": "python3"
  },
  "language_info": {
   "codemirror_mode": {
    "name": "ipython",
    "version": 3
   },
   "file_extension": ".py",
   "mimetype": "text/x-python",
   "name": "python",
   "nbconvert_exporter": "python",
   "pygments_lexer": "ipython3",
   "version": "3.9.6"
  }
 },
 "nbformat": 4,
 "nbformat_minor": 5
}
